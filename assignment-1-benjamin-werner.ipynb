{
 "cells": [
  {
   "cell_type": "markdown",
   "id": "632ab57f",
   "metadata": {},
   "source": [
    "# Assignment 1\n",
    "\n",
    "This notebook builds a linear model that predicts weekly COVID-19 given a date, age bracket, and race. \n",
    "\n",
    "For more information here is a link to the competition: [https://www.kaggle.com/competitions/cap-4611-2021-fall-assignment-1](https://www.kaggle.com/competitions/cap-4611-2021-fall-assignment-1)."
   ]
  },
  {
   "cell_type": "code",
   "execution_count": null,
   "id": "99daa542",
   "metadata": {
    "_cell_guid": "b1076dfc-b9ad-4769-8c92-a6c4dae69d19",
    "_uuid": "8f2839f25d086af736a60e9eeb907d3b93b6e0e5",
    "execution": {
     "iopub.execute_input": "2021-10-12T02:18:24.510559Z",
     "iopub.status.busy": "2021-10-12T02:18:24.509878Z",
     "iopub.status.idle": "2021-10-12T02:18:25.511150Z",
     "shell.execute_reply": "2021-10-12T02:18:25.510320Z",
     "shell.execute_reply.started": "2021-10-12T02:17:16.969401Z"
    },
    "papermill": {
     "duration": 1.047789,
     "end_time": "2021-10-12T02:18:25.511317",
     "exception": false,
     "start_time": "2021-10-12T02:18:24.463528",
     "status": "completed"
    },
    "tags": []
   },
   "outputs": [
    {
     "name": "stdout",
     "output_type": "stream",
     "text": [
      "/kaggle/input/inputdata/sample_submission.csv\n",
      "/kaggle/input/inputdata/train.csv\n",
      "/kaggle/input/inputdata/test.csv\n"
     ]
    }
   ],
   "source": [
    "# This Python 3 environment comes with many helpful analytics libraries installed\n",
    "# It is defined by the kaggle/python Docker image: https://github.com/kaggle/docker-python\n",
    "# For example, here's several helpful packages to load\n",
    "\n",
    "import numpy as np # linear algebra\n",
    "import pandas as pd # data processing, CSV file I/O (e.g. pd.read_csv)\n",
    "import seaborn as sb # Data visualization\n",
    "import matplotlib.pyplot as plt\n",
    "import scipy as stats\n",
    "\n",
    "\n",
    "# Input data files are available in the read-only \"../input/\" directory\n",
    "# For example, running this (by clicking run or pressing Shift+Enter) will list all files under the input directory\n",
    "\n",
    "import os\n",
    "for dirname, _, filenames in os.walk('/kaggle/input'):\n",
    "    for filename in filenames:\n",
    "        print(os.path.join(dirname, filename))\n",
    "\n",
    "# You can write up to 20GB to the current directory (/kaggle/working/) that gets preserved as output when you create a version using \"Save & Run All\" \n",
    "# You can also write temporary files to /kaggle/temp/, but they won't be saved outside of the current session"
   ]
  },
  {
   "cell_type": "markdown",
   "id": "4714553a",
   "metadata": {
    "papermill": {
     "duration": 0.038967,
     "end_time": "2021-10-12T02:18:25.589581",
     "exception": false,
     "start_time": "2021-10-12T02:18:25.550614",
     "status": "completed"
    },
    "tags": []
   },
   "source": []
  },
  {
   "cell_type": "markdown",
   "id": "22c0f278",
   "metadata": {
    "papermill": {
     "duration": 0.037792,
     "end_time": "2021-10-12T02:18:25.664655",
     "exception": false,
     "start_time": "2021-10-12T02:18:25.626863",
     "status": "completed"
    },
    "tags": []
   },
   "source": [
    "Import Data\n",
    "# #1 **[1 point] You must load the data from the provided CSV files.**"
   ]
  },
  {
   "cell_type": "markdown",
   "id": "5fe947d9",
   "metadata": {
    "papermill": {
     "duration": 0.036849,
     "end_time": "2021-10-12T02:18:25.738730",
     "exception": false,
     "start_time": "2021-10-12T02:18:25.701881",
     "status": "completed"
    },
    "tags": []
   },
   "source": [
    "****"
   ]
  },
  {
   "cell_type": "code",
   "execution_count": 2,
   "id": "dfcac2a2",
   "metadata": {
    "execution": {
     "iopub.execute_input": "2021-10-12T02:18:25.819528Z",
     "iopub.status.busy": "2021-10-12T02:18:25.818850Z",
     "iopub.status.idle": "2021-10-12T02:18:26.288226Z",
     "shell.execute_reply": "2021-10-12T02:18:26.287265Z",
     "shell.execute_reply.started": "2021-10-12T02:17:16.982176Z"
    },
    "papermill": {
     "duration": 0.512604,
     "end_time": "2021-10-12T02:18:26.288384",
     "exception": false,
     "start_time": "2021-10-12T02:18:25.775780",
     "status": "completed"
    },
    "tags": []
   },
   "outputs": [
    {
     "name": "stderr",
     "output_type": "stream",
     "text": [
      "/opt/conda/lib/python3.7/site-packages/IPython/core/interactiveshell.py:3441: DtypeWarning: Columns (5,8) have mixed types.Specify dtype option on import or set low_memory=False.\n",
      "  exec(code_obj, self.user_global_ns, self.user_ns)\n"
     ]
    }
   ],
   "source": [
    "train = pd.read_csv(\"../input/inputdata/train.csv\")\n",
    "test = pd.read_csv(\"../input/inputdata/test.csv\")\n",
    "submission = pd.read_csv(\"../input/inputdata/sample_submission.csv\")"
   ]
  },
  {
   "cell_type": "code",
   "execution_count": 3,
   "id": "fdd34f3e",
   "metadata": {
    "execution": {
     "iopub.execute_input": "2021-10-12T02:18:26.375278Z",
     "iopub.status.busy": "2021-10-12T02:18:26.374594Z",
     "iopub.status.idle": "2021-10-12T02:18:26.397735Z",
     "shell.execute_reply": "2021-10-12T02:18:26.397186Z",
     "shell.execute_reply.started": "2021-10-12T02:17:17.271939Z"
    },
    "papermill": {
     "duration": 0.0715,
     "end_time": "2021-10-12T02:18:26.397888",
     "exception": false,
     "start_time": "2021-10-12T02:18:26.326388",
     "status": "completed"
    },
    "tags": []
   },
   "outputs": [
    {
     "data": {
      "text/html": [
       "<div>\n",
       "<style scoped>\n",
       "    .dataframe tbody tr th:only-of-type {\n",
       "        vertical-align: middle;\n",
       "    }\n",
       "\n",
       "    .dataframe tbody tr th {\n",
       "        vertical-align: top;\n",
       "    }\n",
       "\n",
       "    .dataframe thead th {\n",
       "        text-align: right;\n",
       "    }\n",
       "</style>\n",
       "<table border=\"1\" class=\"dataframe\">\n",
       "  <thead>\n",
       "    <tr style=\"text-align: right;\">\n",
       "      <th></th>\n",
       "      <th>id</th>\n",
       "      <th>Data As Of</th>\n",
       "      <th>Start Date</th>\n",
       "      <th>End Date</th>\n",
       "      <th>Group</th>\n",
       "      <th>Year</th>\n",
       "      <th>Month</th>\n",
       "      <th>MMWR Week</th>\n",
       "      <th>Week-Ending Date</th>\n",
       "      <th>HHS Region</th>\n",
       "      <th>Race and Hispanic Origin Group</th>\n",
       "      <th>Age Group</th>\n",
       "      <th>COVID-19 Deaths</th>\n",
       "      <th>Total Deaths</th>\n",
       "      <th>Footnote</th>\n",
       "    </tr>\n",
       "  </thead>\n",
       "  <tbody>\n",
       "    <tr>\n",
       "      <th>0</th>\n",
       "      <td>0</td>\n",
       "      <td>09/22/2021</td>\n",
       "      <td>12/29/2019</td>\n",
       "      <td>2020-01-04</td>\n",
       "      <td>By Week</td>\n",
       "      <td>2019/2020</td>\n",
       "      <td>NaN</td>\n",
       "      <td>1.0</td>\n",
       "      <td>01/04/2020</td>\n",
       "      <td>United States</td>\n",
       "      <td>Hispanic</td>\n",
       "      <td>0-4 years</td>\n",
       "      <td>0.0</td>\n",
       "      <td>104.0</td>\n",
       "      <td>NaN</td>\n",
       "    </tr>\n",
       "    <tr>\n",
       "      <th>1</th>\n",
       "      <td>1</td>\n",
       "      <td>09/22/2021</td>\n",
       "      <td>12/29/2019</td>\n",
       "      <td>2020-01-04</td>\n",
       "      <td>By Week</td>\n",
       "      <td>2019/2020</td>\n",
       "      <td>NaN</td>\n",
       "      <td>1.0</td>\n",
       "      <td>01/04/2020</td>\n",
       "      <td>United States</td>\n",
       "      <td>Hispanic</td>\n",
       "      <td>5-17 years</td>\n",
       "      <td>0.0</td>\n",
       "      <td>41.0</td>\n",
       "      <td>NaN</td>\n",
       "    </tr>\n",
       "    <tr>\n",
       "      <th>2</th>\n",
       "      <td>2</td>\n",
       "      <td>09/22/2021</td>\n",
       "      <td>12/29/2019</td>\n",
       "      <td>2020-01-04</td>\n",
       "      <td>By Week</td>\n",
       "      <td>2019/2020</td>\n",
       "      <td>NaN</td>\n",
       "      <td>1.0</td>\n",
       "      <td>01/04/2020</td>\n",
       "      <td>United States</td>\n",
       "      <td>Hispanic</td>\n",
       "      <td>18-29 years</td>\n",
       "      <td>0.0</td>\n",
       "      <td>190.0</td>\n",
       "      <td>NaN</td>\n",
       "    </tr>\n",
       "    <tr>\n",
       "      <th>3</th>\n",
       "      <td>3</td>\n",
       "      <td>09/22/2021</td>\n",
       "      <td>12/29/2019</td>\n",
       "      <td>2020-01-04</td>\n",
       "      <td>By Week</td>\n",
       "      <td>2019/2020</td>\n",
       "      <td>NaN</td>\n",
       "      <td>1.0</td>\n",
       "      <td>01/04/2020</td>\n",
       "      <td>United States</td>\n",
       "      <td>Hispanic</td>\n",
       "      <td>30-39 years</td>\n",
       "      <td>0.0</td>\n",
       "      <td>237.0</td>\n",
       "      <td>NaN</td>\n",
       "    </tr>\n",
       "    <tr>\n",
       "      <th>4</th>\n",
       "      <td>4</td>\n",
       "      <td>09/22/2021</td>\n",
       "      <td>12/29/2019</td>\n",
       "      <td>2020-01-04</td>\n",
       "      <td>By Week</td>\n",
       "      <td>2019/2020</td>\n",
       "      <td>NaN</td>\n",
       "      <td>1.0</td>\n",
       "      <td>01/04/2020</td>\n",
       "      <td>United States</td>\n",
       "      <td>Hispanic</td>\n",
       "      <td>40-49 years</td>\n",
       "      <td>0.0</td>\n",
       "      <td>325.0</td>\n",
       "      <td>NaN</td>\n",
       "    </tr>\n",
       "  </tbody>\n",
       "</table>\n",
       "</div>"
      ],
      "text/plain": [
       "   id  Data As Of  Start Date    End Date    Group       Year  Month  \\\n",
       "0   0  09/22/2021  12/29/2019  2020-01-04  By Week  2019/2020    NaN   \n",
       "1   1  09/22/2021  12/29/2019  2020-01-04  By Week  2019/2020    NaN   \n",
       "2   2  09/22/2021  12/29/2019  2020-01-04  By Week  2019/2020    NaN   \n",
       "3   3  09/22/2021  12/29/2019  2020-01-04  By Week  2019/2020    NaN   \n",
       "4   4  09/22/2021  12/29/2019  2020-01-04  By Week  2019/2020    NaN   \n",
       "\n",
       "   MMWR Week Week-Ending Date     HHS Region Race and Hispanic Origin Group  \\\n",
       "0        1.0       01/04/2020  United States                       Hispanic   \n",
       "1        1.0       01/04/2020  United States                       Hispanic   \n",
       "2        1.0       01/04/2020  United States                       Hispanic   \n",
       "3        1.0       01/04/2020  United States                       Hispanic   \n",
       "4        1.0       01/04/2020  United States                       Hispanic   \n",
       "\n",
       "     Age Group  COVID-19 Deaths  Total Deaths Footnote  \n",
       "0    0-4 years              0.0         104.0      NaN  \n",
       "1   5-17 years              0.0          41.0      NaN  \n",
       "2  18-29 years              0.0         190.0      NaN  \n",
       "3  30-39 years              0.0         237.0      NaN  \n",
       "4  40-49 years              0.0         325.0      NaN  "
      ]
     },
     "execution_count": 3,
     "metadata": {},
     "output_type": "execute_result"
    }
   ],
   "source": [
    "train.head()"
   ]
  },
  {
   "cell_type": "markdown",
   "id": "1216034d",
   "metadata": {
    "papermill": {
     "duration": 0.037606,
     "end_time": "2021-10-12T02:18:26.473602",
     "exception": false,
     "start_time": "2021-10-12T02:18:26.435996",
     "status": "completed"
    },
    "tags": []
   },
   "source": [
    "# #4 [1 point] You must describe any data transformations or feature engineering that are required and provide an explanation as to \"why\" each is being done."
   ]
  },
  {
   "cell_type": "markdown",
   "id": "60d7c384",
   "metadata": {
    "papermill": {
     "duration": 0.03735,
     "end_time": "2021-10-12T02:18:26.548804",
     "exception": false,
     "start_time": "2021-10-12T02:18:26.511454",
     "status": "completed"
    },
    "tags": []
   },
   "source": [
    "First there is a lot of data here that is useless to us and some that is redudant.\n",
    "\n",
    "Let's remove that data."
   ]
  },
  {
   "cell_type": "code",
   "execution_count": 4,
   "id": "9d83e3f1",
   "metadata": {
    "execution": {
     "iopub.execute_input": "2021-10-12T02:18:26.641082Z",
     "iopub.status.busy": "2021-10-12T02:18:26.639958Z",
     "iopub.status.idle": "2021-10-12T02:18:26.700250Z",
     "shell.execute_reply": "2021-10-12T02:18:26.699666Z",
     "shell.execute_reply.started": "2021-10-12T02:17:17.293802Z"
    },
    "papermill": {
     "duration": 0.112638,
     "end_time": "2021-10-12T02:18:26.700391",
     "exception": false,
     "start_time": "2021-10-12T02:18:26.587753",
     "status": "completed"
    },
    "tags": []
   },
   "outputs": [
    {
     "data": {
      "text/html": [
       "<div>\n",
       "<style scoped>\n",
       "    .dataframe tbody tr th:only-of-type {\n",
       "        vertical-align: middle;\n",
       "    }\n",
       "\n",
       "    .dataframe tbody tr th {\n",
       "        vertical-align: top;\n",
       "    }\n",
       "\n",
       "    .dataframe thead th {\n",
       "        text-align: right;\n",
       "    }\n",
       "</style>\n",
       "<table border=\"1\" class=\"dataframe\">\n",
       "  <thead>\n",
       "    <tr style=\"text-align: right;\">\n",
       "      <th></th>\n",
       "      <th>id</th>\n",
       "      <th>End Date</th>\n",
       "      <th>MMWR Week</th>\n",
       "      <th>Race and Hispanic Origin Group</th>\n",
       "      <th>Age Group</th>\n",
       "      <th>COVID-19 Deaths</th>\n",
       "    </tr>\n",
       "  </thead>\n",
       "  <tbody>\n",
       "    <tr>\n",
       "      <th>0</th>\n",
       "      <td>0</td>\n",
       "      <td>2020-01-04</td>\n",
       "      <td>1.0</td>\n",
       "      <td>Hispanic</td>\n",
       "      <td>0-4 years</td>\n",
       "      <td>0.0</td>\n",
       "    </tr>\n",
       "    <tr>\n",
       "      <th>1</th>\n",
       "      <td>1</td>\n",
       "      <td>2020-01-04</td>\n",
       "      <td>1.0</td>\n",
       "      <td>Hispanic</td>\n",
       "      <td>5-17 years</td>\n",
       "      <td>0.0</td>\n",
       "    </tr>\n",
       "    <tr>\n",
       "      <th>2</th>\n",
       "      <td>2</td>\n",
       "      <td>2020-01-04</td>\n",
       "      <td>1.0</td>\n",
       "      <td>Hispanic</td>\n",
       "      <td>18-29 years</td>\n",
       "      <td>0.0</td>\n",
       "    </tr>\n",
       "    <tr>\n",
       "      <th>3</th>\n",
       "      <td>3</td>\n",
       "      <td>2020-01-04</td>\n",
       "      <td>1.0</td>\n",
       "      <td>Hispanic</td>\n",
       "      <td>30-39 years</td>\n",
       "      <td>0.0</td>\n",
       "    </tr>\n",
       "    <tr>\n",
       "      <th>4</th>\n",
       "      <td>4</td>\n",
       "      <td>2020-01-04</td>\n",
       "      <td>1.0</td>\n",
       "      <td>Hispanic</td>\n",
       "      <td>40-49 years</td>\n",
       "      <td>0.0</td>\n",
       "    </tr>\n",
       "  </tbody>\n",
       "</table>\n",
       "</div>"
      ],
      "text/plain": [
       "   id    End Date  MMWR Week Race and Hispanic Origin Group    Age Group  \\\n",
       "0   0  2020-01-04        1.0                       Hispanic    0-4 years   \n",
       "1   1  2020-01-04        1.0                       Hispanic   5-17 years   \n",
       "2   2  2020-01-04        1.0                       Hispanic  18-29 years   \n",
       "3   3  2020-01-04        1.0                       Hispanic  30-39 years   \n",
       "4   4  2020-01-04        1.0                       Hispanic  40-49 years   \n",
       "\n",
       "   COVID-19 Deaths  \n",
       "0              0.0  \n",
       "1              0.0  \n",
       "2              0.0  \n",
       "3              0.0  \n",
       "4              0.0  "
      ]
     },
     "execution_count": 4,
     "metadata": {},
     "output_type": "execute_result"
    }
   ],
   "source": [
    "#train = train.drop(['id'], axis = 1)\n",
    "train = train.drop(['Data As Of'], axis = 1)\n",
    "train = train.drop(['Start Date'], axis = 1)\n",
    "train = train.drop(['Group'], axis = 1)\n",
    "train = train.drop(['Year'], axis = 1)\n",
    "train = train.drop(['Month'], axis = 1)\n",
    "train = train.drop(['Week-Ending Date'], axis = 1)\n",
    "train = train.drop(['HHS Region'], axis = 1)\n",
    "train = train.drop(['Total Deaths'], axis = 1)\n",
    "train = train.drop(['Footnote'], axis = 1)\n",
    "\n",
    "train.head()"
   ]
  },
  {
   "cell_type": "code",
   "execution_count": 5,
   "id": "16fbe114",
   "metadata": {
    "execution": {
     "iopub.execute_input": "2021-10-12T02:18:26.790490Z",
     "iopub.status.busy": "2021-10-12T02:18:26.786122Z",
     "iopub.status.idle": "2021-10-12T02:18:26.802911Z",
     "shell.execute_reply": "2021-10-12T02:18:26.802253Z",
     "shell.execute_reply.started": "2021-10-12T02:17:17.371914Z"
    },
    "papermill": {
     "duration": 0.064209,
     "end_time": "2021-10-12T02:18:26.803059",
     "exception": false,
     "start_time": "2021-10-12T02:18:26.738850",
     "status": "completed"
    },
    "tags": []
   },
   "outputs": [
    {
     "data": {
      "text/html": [
       "<div>\n",
       "<style scoped>\n",
       "    .dataframe tbody tr th:only-of-type {\n",
       "        vertical-align: middle;\n",
       "    }\n",
       "\n",
       "    .dataframe tbody tr th {\n",
       "        vertical-align: top;\n",
       "    }\n",
       "\n",
       "    .dataframe thead th {\n",
       "        text-align: right;\n",
       "    }\n",
       "</style>\n",
       "<table border=\"1\" class=\"dataframe\">\n",
       "  <thead>\n",
       "    <tr style=\"text-align: right;\">\n",
       "      <th></th>\n",
       "      <th>id</th>\n",
       "      <th>End Date</th>\n",
       "      <th>MMWR Week</th>\n",
       "      <th>Race and Hispanic Origin Group</th>\n",
       "      <th>Age Group</th>\n",
       "    </tr>\n",
       "  </thead>\n",
       "  <tbody>\n",
       "    <tr>\n",
       "      <th>0</th>\n",
       "      <td>5328</td>\n",
       "      <td>2021-06-05</td>\n",
       "      <td>22.0</td>\n",
       "      <td>Hispanic</td>\n",
       "      <td>0-4 years</td>\n",
       "    </tr>\n",
       "    <tr>\n",
       "      <th>1</th>\n",
       "      <td>5329</td>\n",
       "      <td>2021-06-05</td>\n",
       "      <td>22.0</td>\n",
       "      <td>Hispanic</td>\n",
       "      <td>5-17 years</td>\n",
       "    </tr>\n",
       "    <tr>\n",
       "      <th>2</th>\n",
       "      <td>5330</td>\n",
       "      <td>2021-06-05</td>\n",
       "      <td>22.0</td>\n",
       "      <td>Hispanic</td>\n",
       "      <td>18-29 years</td>\n",
       "    </tr>\n",
       "    <tr>\n",
       "      <th>3</th>\n",
       "      <td>5331</td>\n",
       "      <td>2021-06-05</td>\n",
       "      <td>22.0</td>\n",
       "      <td>Hispanic</td>\n",
       "      <td>30-39 years</td>\n",
       "    </tr>\n",
       "    <tr>\n",
       "      <th>4</th>\n",
       "      <td>5332</td>\n",
       "      <td>2021-06-05</td>\n",
       "      <td>22.0</td>\n",
       "      <td>Hispanic</td>\n",
       "      <td>40-49 years</td>\n",
       "    </tr>\n",
       "  </tbody>\n",
       "</table>\n",
       "</div>"
      ],
      "text/plain": [
       "     id    End Date  MMWR Week Race and Hispanic Origin Group    Age Group\n",
       "0  5328  2021-06-05       22.0                       Hispanic    0-4 years\n",
       "1  5329  2021-06-05       22.0                       Hispanic   5-17 years\n",
       "2  5330  2021-06-05       22.0                       Hispanic  18-29 years\n",
       "3  5331  2021-06-05       22.0                       Hispanic  30-39 years\n",
       "4  5332  2021-06-05       22.0                       Hispanic  40-49 years"
      ]
     },
     "execution_count": 5,
     "metadata": {},
     "output_type": "execute_result"
    }
   ],
   "source": [
    "#test = test.drop(['id'], axis = 1)\n",
    "test = test.drop(['Data As Of'], axis = 1)\n",
    "test = test.drop(['Start Date'], axis = 1)\n",
    "test = test.drop(['Group'], axis = 1)\n",
    "test = test.drop(['Year'], axis = 1)\n",
    "test = test.drop(['Month'], axis = 1)\n",
    "test = test.drop(['Week-Ending Date'], axis = 1)\n",
    "test = test.drop(['HHS Region'], axis = 1)\n",
    "test = test.drop(['Total Deaths'], axis = 1)\n",
    "\n",
    "\n",
    "test.head()"
   ]
  },
  {
   "cell_type": "markdown",
   "id": "0af27351",
   "metadata": {
    "papermill": {
     "duration": 0.039923,
     "end_time": "2021-10-12T02:18:26.882082",
     "exception": false,
     "start_time": "2021-10-12T02:18:26.842159",
     "status": "completed"
    },
    "tags": []
   },
   "source": [
    "Now looking at our data we can see we have categorical data. We need to convert this data to be better processed by our models.\n",
    "\n",
    "We are going to start with the Age Group, we are going to replace each string with an integer.\n",
    "\n",
    "The categories are...\n",
    "\n",
    "NULL -> -1\n",
    "\n",
    "0-4 -> 0\n",
    "\n",
    "5-17 -> 1\n",
    "\n",
    "18-29 -> 2\n",
    "\n",
    "30-39 -> 3\n",
    "\n",
    "40-49 -> 4\n",
    "\n",
    "50-64 -> 5\n",
    "\n",
    "65-74 -> 6\n",
    "\n",
    "75--84 -> 7\n",
    "\n",
    "85 years and over -> 8"
   ]
  },
  {
   "cell_type": "code",
   "execution_count": 6,
   "id": "c12e73e1",
   "metadata": {
    "execution": {
     "iopub.execute_input": "2021-10-12T02:18:26.970387Z",
     "iopub.status.busy": "2021-10-12T02:18:26.969354Z",
     "iopub.status.idle": "2021-10-12T02:18:27.038447Z",
     "shell.execute_reply": "2021-10-12T02:18:27.037902Z",
     "shell.execute_reply.started": "2021-10-12T02:17:17.397225Z"
    },
    "papermill": {
     "duration": 0.117504,
     "end_time": "2021-10-12T02:18:27.038626",
     "exception": false,
     "start_time": "2021-10-12T02:18:26.921122",
     "status": "completed"
    },
    "tags": []
   },
   "outputs": [
    {
     "data": {
      "text/html": [
       "<div>\n",
       "<style scoped>\n",
       "    .dataframe tbody tr th:only-of-type {\n",
       "        vertical-align: middle;\n",
       "    }\n",
       "\n",
       "    .dataframe tbody tr th {\n",
       "        vertical-align: top;\n",
       "    }\n",
       "\n",
       "    .dataframe thead th {\n",
       "        text-align: right;\n",
       "    }\n",
       "</style>\n",
       "<table border=\"1\" class=\"dataframe\">\n",
       "  <thead>\n",
       "    <tr style=\"text-align: right;\">\n",
       "      <th></th>\n",
       "      <th>id</th>\n",
       "      <th>End Date</th>\n",
       "      <th>MMWR Week</th>\n",
       "      <th>Race and Hispanic Origin Group</th>\n",
       "      <th>Age Group</th>\n",
       "      <th>COVID-19 Deaths</th>\n",
       "    </tr>\n",
       "  </thead>\n",
       "  <tbody>\n",
       "    <tr>\n",
       "      <th>0</th>\n",
       "      <td>0</td>\n",
       "      <td>2020-01-04</td>\n",
       "      <td>1.0</td>\n",
       "      <td>Hispanic</td>\n",
       "      <td>0</td>\n",
       "      <td>0.0</td>\n",
       "    </tr>\n",
       "    <tr>\n",
       "      <th>1</th>\n",
       "      <td>1</td>\n",
       "      <td>2020-01-04</td>\n",
       "      <td>1.0</td>\n",
       "      <td>Hispanic</td>\n",
       "      <td>1</td>\n",
       "      <td>0.0</td>\n",
       "    </tr>\n",
       "    <tr>\n",
       "      <th>2</th>\n",
       "      <td>2</td>\n",
       "      <td>2020-01-04</td>\n",
       "      <td>1.0</td>\n",
       "      <td>Hispanic</td>\n",
       "      <td>2</td>\n",
       "      <td>0.0</td>\n",
       "    </tr>\n",
       "    <tr>\n",
       "      <th>3</th>\n",
       "      <td>3</td>\n",
       "      <td>2020-01-04</td>\n",
       "      <td>1.0</td>\n",
       "      <td>Hispanic</td>\n",
       "      <td>3</td>\n",
       "      <td>0.0</td>\n",
       "    </tr>\n",
       "    <tr>\n",
       "      <th>4</th>\n",
       "      <td>4</td>\n",
       "      <td>2020-01-04</td>\n",
       "      <td>1.0</td>\n",
       "      <td>Hispanic</td>\n",
       "      <td>4</td>\n",
       "      <td>0.0</td>\n",
       "    </tr>\n",
       "  </tbody>\n",
       "</table>\n",
       "</div>"
      ],
      "text/plain": [
       "   id    End Date  MMWR Week Race and Hispanic Origin Group  Age Group  \\\n",
       "0   0  2020-01-04        1.0                       Hispanic          0   \n",
       "1   1  2020-01-04        1.0                       Hispanic          1   \n",
       "2   2  2020-01-04        1.0                       Hispanic          2   \n",
       "3   3  2020-01-04        1.0                       Hispanic          3   \n",
       "4   4  2020-01-04        1.0                       Hispanic          4   \n",
       "\n",
       "   COVID-19 Deaths  \n",
       "0              0.0  \n",
       "1              0.0  \n",
       "2              0.0  \n",
       "3              0.0  \n",
       "4              0.0  "
      ]
     },
     "execution_count": 6,
     "metadata": {},
     "output_type": "execute_result"
    }
   ],
   "source": [
    "def AgeGroupToInt(x):\n",
    "    if x == '0-4 years': return 0\n",
    "    elif x == '5-17 years': return 1\n",
    "    elif x == '18-29 years': return 2\n",
    "    elif x == '30-39 years': return 3\n",
    "    elif x == '40-49 years': return 4\n",
    "    elif x == '50-64 years': return 5\n",
    "    elif x == '65-74 years': return 6\n",
    "    elif x == '75-84 years': return 7\n",
    "    elif x == '85 years and over': return 8\n",
    "    else: return -1\n",
    "\n",
    "train['Age Group'] = train['Age Group'].apply(AgeGroupToInt)\n",
    "test['Age Group'] = test['Age Group'].apply(AgeGroupToInt)\n",
    "train.head()"
   ]
  },
  {
   "cell_type": "markdown",
   "id": "47dcd59f",
   "metadata": {
    "papermill": {
     "duration": 0.038962,
     "end_time": "2021-10-12T02:18:27.116971",
     "exception": false,
     "start_time": "2021-10-12T02:18:27.078009",
     "status": "completed"
    },
    "tags": []
   },
   "source": [
    "We also need to do this for Race and Hispanic Origin Group\n",
    "\n",
    "They will be as follows\n",
    "Unknown                                           -> 0\n",
    "Hispanic                                          -> 1\n",
    "Non-Hispanic American Indian or Alaska Native     -> 2\n",
    "Non-Hispanic Asian                                -> 3\n",
    "Non-Hispanic Black                                -> 4\n",
    "Non-Hispanic More than one race                   -> 5\n",
    "Non-Hispanic Native Hawaiian or Other Pacific Islander -> 6\n",
    "Non-Hispanic White                                 -> 7\n",
    "\n"
   ]
  },
  {
   "cell_type": "code",
   "execution_count": 7,
   "id": "510e2d54",
   "metadata": {
    "execution": {
     "iopub.execute_input": "2021-10-12T02:18:27.204897Z",
     "iopub.status.busy": "2021-10-12T02:18:27.203908Z",
     "iopub.status.idle": "2021-10-12T02:18:27.269936Z",
     "shell.execute_reply": "2021-10-12T02:18:27.269408Z",
     "shell.execute_reply.started": "2021-10-12T02:17:17.476340Z"
    },
    "papermill": {
     "duration": 0.113572,
     "end_time": "2021-10-12T02:18:27.270093",
     "exception": false,
     "start_time": "2021-10-12T02:18:27.156521",
     "status": "completed"
    },
    "tags": []
   },
   "outputs": [
    {
     "data": {
      "text/html": [
       "<div>\n",
       "<style scoped>\n",
       "    .dataframe tbody tr th:only-of-type {\n",
       "        vertical-align: middle;\n",
       "    }\n",
       "\n",
       "    .dataframe tbody tr th {\n",
       "        vertical-align: top;\n",
       "    }\n",
       "\n",
       "    .dataframe thead th {\n",
       "        text-align: right;\n",
       "    }\n",
       "</style>\n",
       "<table border=\"1\" class=\"dataframe\">\n",
       "  <thead>\n",
       "    <tr style=\"text-align: right;\">\n",
       "      <th></th>\n",
       "      <th>id</th>\n",
       "      <th>End Date</th>\n",
       "      <th>MMWR Week</th>\n",
       "      <th>Race and Hispanic Origin Group</th>\n",
       "      <th>Age Group</th>\n",
       "      <th>COVID-19 Deaths</th>\n",
       "    </tr>\n",
       "  </thead>\n",
       "  <tbody>\n",
       "    <tr>\n",
       "      <th>0</th>\n",
       "      <td>0</td>\n",
       "      <td>2020-01-04</td>\n",
       "      <td>1.0</td>\n",
       "      <td>1</td>\n",
       "      <td>0</td>\n",
       "      <td>0.0</td>\n",
       "    </tr>\n",
       "    <tr>\n",
       "      <th>1</th>\n",
       "      <td>1</td>\n",
       "      <td>2020-01-04</td>\n",
       "      <td>1.0</td>\n",
       "      <td>1</td>\n",
       "      <td>1</td>\n",
       "      <td>0.0</td>\n",
       "    </tr>\n",
       "    <tr>\n",
       "      <th>2</th>\n",
       "      <td>2</td>\n",
       "      <td>2020-01-04</td>\n",
       "      <td>1.0</td>\n",
       "      <td>1</td>\n",
       "      <td>2</td>\n",
       "      <td>0.0</td>\n",
       "    </tr>\n",
       "    <tr>\n",
       "      <th>3</th>\n",
       "      <td>3</td>\n",
       "      <td>2020-01-04</td>\n",
       "      <td>1.0</td>\n",
       "      <td>1</td>\n",
       "      <td>3</td>\n",
       "      <td>0.0</td>\n",
       "    </tr>\n",
       "    <tr>\n",
       "      <th>4</th>\n",
       "      <td>4</td>\n",
       "      <td>2020-01-04</td>\n",
       "      <td>1.0</td>\n",
       "      <td>1</td>\n",
       "      <td>4</td>\n",
       "      <td>0.0</td>\n",
       "    </tr>\n",
       "  </tbody>\n",
       "</table>\n",
       "</div>"
      ],
      "text/plain": [
       "   id    End Date  MMWR Week  Race and Hispanic Origin Group  Age Group  \\\n",
       "0   0  2020-01-04        1.0                               1          0   \n",
       "1   1  2020-01-04        1.0                               1          1   \n",
       "2   2  2020-01-04        1.0                               1          2   \n",
       "3   3  2020-01-04        1.0                               1          3   \n",
       "4   4  2020-01-04        1.0                               1          4   \n",
       "\n",
       "   COVID-19 Deaths  \n",
       "0              0.0  \n",
       "1              0.0  \n",
       "2              0.0  \n",
       "3              0.0  \n",
       "4              0.0  "
      ]
     },
     "execution_count": 7,
     "metadata": {},
     "output_type": "execute_result"
    }
   ],
   "source": [
    "\n",
    "def RaceGroupToInt(x):\n",
    "    if x == 'Hispanic': return 1\n",
    "    elif x == 'Non-Hispanic American Indian or Alaska Native': return 2\n",
    "    elif x == 'Non-Hispanic Asian': return 3\n",
    "    elif x == 'Non-Hispanic Black': return 4\n",
    "    elif x == 'Non-Hispanic More than one race': return 5\n",
    "    elif x == 'Non-Hispanic Native Hawaiian or Other Pacific Islander': return 6\n",
    "    elif x == 'Non-Hispanic White': return 7\n",
    "    else: return 0\n",
    "    \n",
    "train['Race and Hispanic Origin Group'] = train['Race and Hispanic Origin Group'].apply(RaceGroupToInt)\n",
    "test['Race and Hispanic Origin Group'] = test['Race and Hispanic Origin Group'].apply(RaceGroupToInt)\n",
    "train.head()"
   ]
  },
  {
   "cell_type": "markdown",
   "id": "67f445e0",
   "metadata": {
    "papermill": {
     "duration": 0.039673,
     "end_time": "2021-10-12T02:18:27.349723",
     "exception": false,
     "start_time": "2021-10-12T02:18:27.310050",
     "status": "completed"
    },
    "tags": []
   },
   "source": [
    "Now we need to convert the dates into something the machine can recognize.\n",
    "\n",
    "First we are going to convert pandas datetime class, then we are going to convert that into an integer.\n",
    "\n",
    "The nice thing about converting to integer is we can manipulate the data very easily here.\n",
    "\n",
    "\n",
    "\n",
    "\n",
    "-------------------------------------------------------------------------------------------------------------------------------------\n",
    "\n",
    "For example: If we look at the trend in the United states August 2020-February 2020 mimics the behavior of April 2021-Octoboer 2021. \n",
    "\n",
    "While I didn't do this because I ran out of time, manipulating the date integer to have these time periods equal each other may give us better results."
   ]
  },
  {
   "cell_type": "code",
   "execution_count": 8,
   "id": "01dcbb22",
   "metadata": {
    "execution": {
     "iopub.execute_input": "2021-10-12T02:18:27.444986Z",
     "iopub.status.busy": "2021-10-12T02:18:27.444015Z",
     "iopub.status.idle": "2021-10-12T02:18:28.030603Z",
     "shell.execute_reply": "2021-10-12T02:18:28.031174Z",
     "shell.execute_reply.started": "2021-10-12T02:17:17.552696Z"
    },
    "papermill": {
     "duration": 0.641561,
     "end_time": "2021-10-12T02:18:28.031357",
     "exception": false,
     "start_time": "2021-10-12T02:18:27.389796",
     "status": "completed"
    },
    "tags": []
   },
   "outputs": [
    {
     "name": "stdout",
     "output_type": "stream",
     "text": [
      "Old type: <class 'str'>\n",
      "New type: <class 'numpy.int64'>\n"
     ]
    },
    {
     "data": {
      "text/html": [
       "<div>\n",
       "<style scoped>\n",
       "    .dataframe tbody tr th:only-of-type {\n",
       "        vertical-align: middle;\n",
       "    }\n",
       "\n",
       "    .dataframe tbody tr th {\n",
       "        vertical-align: top;\n",
       "    }\n",
       "\n",
       "    .dataframe thead th {\n",
       "        text-align: right;\n",
       "    }\n",
       "</style>\n",
       "<table border=\"1\" class=\"dataframe\">\n",
       "  <thead>\n",
       "    <tr style=\"text-align: right;\">\n",
       "      <th></th>\n",
       "      <th>id</th>\n",
       "      <th>End Date</th>\n",
       "      <th>MMWR Week</th>\n",
       "      <th>Race and Hispanic Origin Group</th>\n",
       "      <th>Age Group</th>\n",
       "      <th>COVID-19 Deaths</th>\n",
       "    </tr>\n",
       "  </thead>\n",
       "  <tbody>\n",
       "    <tr>\n",
       "      <th>0</th>\n",
       "      <td>0</td>\n",
       "      <td>368</td>\n",
       "      <td>1.0</td>\n",
       "      <td>1</td>\n",
       "      <td>0</td>\n",
       "      <td>0.0</td>\n",
       "    </tr>\n",
       "    <tr>\n",
       "      <th>1</th>\n",
       "      <td>1</td>\n",
       "      <td>368</td>\n",
       "      <td>1.0</td>\n",
       "      <td>1</td>\n",
       "      <td>1</td>\n",
       "      <td>0.0</td>\n",
       "    </tr>\n",
       "    <tr>\n",
       "      <th>2</th>\n",
       "      <td>2</td>\n",
       "      <td>368</td>\n",
       "      <td>1.0</td>\n",
       "      <td>1</td>\n",
       "      <td>2</td>\n",
       "      <td>0.0</td>\n",
       "    </tr>\n",
       "    <tr>\n",
       "      <th>3</th>\n",
       "      <td>3</td>\n",
       "      <td>368</td>\n",
       "      <td>1.0</td>\n",
       "      <td>1</td>\n",
       "      <td>3</td>\n",
       "      <td>0.0</td>\n",
       "    </tr>\n",
       "    <tr>\n",
       "      <th>4</th>\n",
       "      <td>4</td>\n",
       "      <td>368</td>\n",
       "      <td>1.0</td>\n",
       "      <td>1</td>\n",
       "      <td>4</td>\n",
       "      <td>0.0</td>\n",
       "    </tr>\n",
       "  </tbody>\n",
       "</table>\n",
       "</div>"
      ],
      "text/plain": [
       "   id  End Date  MMWR Week  Race and Hispanic Origin Group  Age Group  \\\n",
       "0   0       368        1.0                               1          0   \n",
       "1   1       368        1.0                               1          1   \n",
       "2   2       368        1.0                               1          2   \n",
       "3   3       368        1.0                               1          3   \n",
       "4   4       368        1.0                               1          4   \n",
       "\n",
       "   COVID-19 Deaths  \n",
       "0              0.0  \n",
       "1              0.0  \n",
       "2              0.0  \n",
       "3              0.0  \n",
       "4              0.0  "
      ]
     },
     "execution_count": 8,
     "metadata": {},
     "output_type": "execute_result"
    }
   ],
   "source": [
    "def to_integer(dt_time):\n",
    "    if(dt_time.year == 2019): return 30*(dt_time.month - 1) + (dt_time.day - 1)\n",
    "    elif (dt_time.year == 2020): return 30*(dt_time.month - 1) + (dt_time.day - 1) + 365\n",
    "    elif (dt_time.year == 2021): return 30*(dt_time.month - 1) + (dt_time.day - 1) + 731\n",
    "\n",
    "print('Old type: {}'.format(type(train['End Date'][0])))\n",
    "\n",
    "train['End Date'] = pd.to_datetime(train['End Date'])\n",
    "train['End Date'] = train['End Date'].apply(to_integer)\n",
    "\n",
    "\n",
    "test['End Date'] = pd.to_datetime(test['End Date'])\n",
    "test['End Date'] = test['End Date'].apply(to_integer)\n",
    "\n",
    "print('New type: {}'.format(type(train['End Date'][0])))\n",
    "train.head()\n",
    "\n"
   ]
  },
  {
   "cell_type": "markdown",
   "id": "60a6fd95",
   "metadata": {
    "papermill": {
     "duration": 0.040747,
     "end_time": "2021-10-12T02:18:28.114782",
     "exception": false,
     "start_time": "2021-10-12T02:18:28.074035",
     "status": "completed"
    },
    "tags": []
   },
   "source": [
    "Let's now see what all of our data types are"
   ]
  },
  {
   "cell_type": "code",
   "execution_count": 9,
   "id": "cd028617",
   "metadata": {
    "execution": {
     "iopub.execute_input": "2021-10-12T02:18:28.205111Z",
     "iopub.status.busy": "2021-10-12T02:18:28.204403Z",
     "iopub.status.idle": "2021-10-12T02:18:28.209112Z",
     "shell.execute_reply": "2021-10-12T02:18:28.208275Z",
     "shell.execute_reply.started": "2021-10-12T02:17:18.240560Z"
    },
    "papermill": {
     "duration": 0.053307,
     "end_time": "2021-10-12T02:18:28.209258",
     "exception": false,
     "start_time": "2021-10-12T02:18:28.155951",
     "status": "completed"
    },
    "tags": []
   },
   "outputs": [
    {
     "name": "stdout",
     "output_type": "stream",
     "text": [
      "End date type: <class 'numpy.int64'>\n",
      "MMWR Week type: <class 'numpy.float64'>\n",
      "Race and Hispanic Origin Group: <class 'numpy.int64'>\n",
      "Age Group: <class 'numpy.int64'>\n",
      "COVID-19 Deaths: <class 'numpy.float64'>\n"
     ]
    }
   ],
   "source": [
    "print('End date type: {}'.format(type(train['End Date'][0])))\n",
    "print('MMWR Week type: {}'.format(type(train['MMWR Week'][0])))\n",
    "print('Race and Hispanic Origin Group: {}'.format(type(train['Race and Hispanic Origin Group'][0])))\n",
    "print('Age Group: {}'.format(type(train['Age Group'][0])))\n",
    "print('COVID-19 Deaths: {}'.format(type(train['COVID-19 Deaths'][0])))"
   ]
  },
  {
   "cell_type": "markdown",
   "id": "39a9775f",
   "metadata": {
    "papermill": {
     "duration": 0.040993,
     "end_time": "2021-10-12T02:18:28.291874",
     "exception": false,
     "start_time": "2021-10-12T02:18:28.250881",
     "status": "completed"
    },
    "tags": []
   },
   "source": [
    "# #3 [1 point] You must check for outliers within the training data and, if required, describe and implement an approach to handle those outliers.\n"
   ]
  },
  {
   "cell_type": "markdown",
   "id": "f33c77a0",
   "metadata": {
    "papermill": {
     "duration": 0.040864,
     "end_time": "2021-10-12T02:18:28.373925",
     "exception": false,
     "start_time": "2021-10-12T02:18:28.333061",
     "status": "completed"
    },
    "tags": []
   },
   "source": [
    "**Outliers**"
   ]
  },
  {
   "cell_type": "markdown",
   "id": "98c9e3bc",
   "metadata": {
    "papermill": {
     "duration": 0.040842,
     "end_time": "2021-10-12T02:18:28.456242",
     "exception": false,
     "start_time": "2021-10-12T02:18:28.415400",
     "status": "completed"
    },
    "tags": []
   },
   "source": [
    "First let's see the data we are dealing with"
   ]
  },
  {
   "cell_type": "code",
   "execution_count": 10,
   "id": "da7ec90a",
   "metadata": {
    "execution": {
     "iopub.execute_input": "2021-10-12T02:18:28.546489Z",
     "iopub.status.busy": "2021-10-12T02:18:28.545750Z",
     "iopub.status.idle": "2021-10-12T02:18:28.586108Z",
     "shell.execute_reply": "2021-10-12T02:18:28.585587Z",
     "shell.execute_reply.started": "2021-10-12T02:17:18.249517Z"
    },
    "papermill": {
     "duration": 0.088656,
     "end_time": "2021-10-12T02:18:28.586257",
     "exception": false,
     "start_time": "2021-10-12T02:18:28.497601",
     "status": "completed"
    },
    "tags": []
   },
   "outputs": [
    {
     "data": {
      "text/html": [
       "<div>\n",
       "<style scoped>\n",
       "    .dataframe tbody tr th:only-of-type {\n",
       "        vertical-align: middle;\n",
       "    }\n",
       "\n",
       "    .dataframe tbody tr th {\n",
       "        vertical-align: top;\n",
       "    }\n",
       "\n",
       "    .dataframe thead th {\n",
       "        text-align: right;\n",
       "    }\n",
       "</style>\n",
       "<table border=\"1\" class=\"dataframe\">\n",
       "  <thead>\n",
       "    <tr style=\"text-align: right;\">\n",
       "      <th></th>\n",
       "      <th>id</th>\n",
       "      <th>End Date</th>\n",
       "      <th>MMWR Week</th>\n",
       "      <th>Race and Hispanic Origin Group</th>\n",
       "      <th>Age Group</th>\n",
       "      <th>COVID-19 Deaths</th>\n",
       "    </tr>\n",
       "  </thead>\n",
       "  <tbody>\n",
       "    <tr>\n",
       "      <th>count</th>\n",
       "      <td>72864.000000</td>\n",
       "      <td>72864.000000</td>\n",
       "      <td>58608.000000</td>\n",
       "      <td>72864.000000</td>\n",
       "      <td>72864.000000</td>\n",
       "      <td>57938.000000</td>\n",
       "    </tr>\n",
       "    <tr>\n",
       "      <th>mean</th>\n",
       "      <td>43848.282609</td>\n",
       "      <td>625.630435</td>\n",
       "      <td>22.459459</td>\n",
       "      <td>3.500000</td>\n",
       "      <td>4.000000</td>\n",
       "      <td>53.730626</td>\n",
       "    </tr>\n",
       "    <tr>\n",
       "      <th>std</th>\n",
       "      <td>25730.268533</td>\n",
       "      <td>149.137430</td>\n",
       "      <td>15.166940</td>\n",
       "      <td>2.291304</td>\n",
       "      <td>2.582007</td>\n",
       "      <td>682.752171</td>\n",
       "    </tr>\n",
       "    <tr>\n",
       "      <th>min</th>\n",
       "      <td>0.000000</td>\n",
       "      <td>368.000000</td>\n",
       "      <td>1.000000</td>\n",
       "      <td>0.000000</td>\n",
       "      <td>0.000000</td>\n",
       "      <td>0.000000</td>\n",
       "    </tr>\n",
       "    <tr>\n",
       "      <th>25%</th>\n",
       "      <td>21671.750000</td>\n",
       "      <td>498.250000</td>\n",
       "      <td>10.000000</td>\n",
       "      <td>1.750000</td>\n",
       "      <td>2.000000</td>\n",
       "      <td>0.000000</td>\n",
       "    </tr>\n",
       "    <tr>\n",
       "      <th>50%</th>\n",
       "      <td>43343.500000</td>\n",
       "      <td>626.500000</td>\n",
       "      <td>19.000000</td>\n",
       "      <td>3.500000</td>\n",
       "      <td>4.000000</td>\n",
       "      <td>0.000000</td>\n",
       "    </tr>\n",
       "    <tr>\n",
       "      <th>75%</th>\n",
       "      <td>66167.250000</td>\n",
       "      <td>754.750000</td>\n",
       "      <td>35.000000</td>\n",
       "      <td>5.250000</td>\n",
       "      <td>6.000000</td>\n",
       "      <td>0.000000</td>\n",
       "    </tr>\n",
       "    <tr>\n",
       "      <th>max</th>\n",
       "      <td>89423.000000</td>\n",
       "      <td>881.000000</td>\n",
       "      <td>53.000000</td>\n",
       "      <td>7.000000</td>\n",
       "      <td>8.000000</td>\n",
       "      <td>94129.000000</td>\n",
       "    </tr>\n",
       "  </tbody>\n",
       "</table>\n",
       "</div>"
      ],
      "text/plain": [
       "                 id      End Date     MMWR Week  \\\n",
       "count  72864.000000  72864.000000  58608.000000   \n",
       "mean   43848.282609    625.630435     22.459459   \n",
       "std    25730.268533    149.137430     15.166940   \n",
       "min        0.000000    368.000000      1.000000   \n",
       "25%    21671.750000    498.250000     10.000000   \n",
       "50%    43343.500000    626.500000     19.000000   \n",
       "75%    66167.250000    754.750000     35.000000   \n",
       "max    89423.000000    881.000000     53.000000   \n",
       "\n",
       "       Race and Hispanic Origin Group     Age Group  COVID-19 Deaths  \n",
       "count                    72864.000000  72864.000000     57938.000000  \n",
       "mean                         3.500000      4.000000        53.730626  \n",
       "std                          2.291304      2.582007       682.752171  \n",
       "min                          0.000000      0.000000         0.000000  \n",
       "25%                          1.750000      2.000000         0.000000  \n",
       "50%                          3.500000      4.000000         0.000000  \n",
       "75%                          5.250000      6.000000         0.000000  \n",
       "max                          7.000000      8.000000     94129.000000  "
      ]
     },
     "execution_count": 10,
     "metadata": {},
     "output_type": "execute_result"
    }
   ],
   "source": [
    "train.describe()"
   ]
  },
  {
   "cell_type": "code",
   "execution_count": 11,
   "id": "2867a1e1",
   "metadata": {
    "execution": {
     "iopub.execute_input": "2021-10-12T02:18:28.675471Z",
     "iopub.status.busy": "2021-10-12T02:18:28.674819Z",
     "iopub.status.idle": "2021-10-12T02:18:31.709700Z",
     "shell.execute_reply": "2021-10-12T02:18:31.709030Z",
     "shell.execute_reply.started": "2021-10-12T02:17:18.296579Z"
    },
    "papermill": {
     "duration": 3.081611,
     "end_time": "2021-10-12T02:18:31.709863",
     "exception": false,
     "start_time": "2021-10-12T02:18:28.628252",
     "status": "completed"
    },
    "tags": []
   },
   "outputs": [
    {
     "name": "stderr",
     "output_type": "stream",
     "text": [
      "/opt/conda/lib/python3.7/site-packages/seaborn/_decorators.py:43: FutureWarning: Pass the following variables as keyword args: x, y. From version 0.12, the only valid positional argument will be `data`, and passing other arguments without an explicit keyword will result in an error or misinterpretation.\n",
      "  FutureWarning\n"
     ]
    },
    {
     "data": {
      "image/png": "[encoded data removed]",
      "text/plain": [
       "<Figure size 432x288 with 1 Axes>"
      ]
     },
     "metadata": {
      "needs_background": "light"
     },
     "output_type": "display_data"
    }
   ],
   "source": [
    "sb.lineplot(train['End Date'], train['COVID-19 Deaths'])\n",
    "plt.show()\n"
   ]
  },
  {
   "cell_type": "markdown",
   "id": "4fc77870",
   "metadata": {
    "papermill": {
     "duration": 0.042762,
     "end_time": "2021-10-12T02:18:31.797068",
     "exception": false,
     "start_time": "2021-10-12T02:18:31.754306",
     "status": "completed"
    },
    "tags": []
   },
   "source": [
    "Removing outliers makes our scores worse. So we just made our outlier function remove extreme extreme (4 standard deviations out)"
   ]
  },
  {
   "cell_type": "code",
   "execution_count": 12,
   "id": "4ceb5f64",
   "metadata": {
    "execution": {
     "iopub.execute_input": "2021-10-12T02:18:31.891468Z",
     "iopub.status.busy": "2021-10-12T02:18:31.890779Z",
     "iopub.status.idle": "2021-10-12T02:18:32.079589Z",
     "shell.execute_reply": "2021-10-12T02:18:32.080079Z",
     "shell.execute_reply.started": "2021-10-12T02:17:21.385686Z"
    },
    "papermill": {
     "duration": 0.24019,
     "end_time": "2021-10-12T02:18:32.080272",
     "exception": false,
     "start_time": "2021-10-12T02:18:31.840082",
     "status": "completed"
    },
    "tags": []
   },
   "outputs": [
    {
     "name": "stdout",
     "output_type": "stream",
     "text": [
      "Before we have 72864 number of rows\n"
     ]
    }
   ],
   "source": [
    "#Here is a outlier detection function, which finds the indexes of outliers given a numerical variable.\n",
    "def Zscore_outlier(df):\n",
    "    retval = []\n",
    "    mean = np.mean(df)\n",
    "    std = np.std(df)\n",
    "    index = 0\n",
    "    \n",
    "    for i in df: \n",
    "        z = (i - mean) / std\n",
    "        if np.abs(z) > 4: \n",
    "            retval.append(index)\n",
    "\n",
    "        index = index + 1\n",
    "            \n",
    "            \n",
    "    return retval\n",
    "\n",
    "        \n",
    "Outliers = np.unique(Zscore_outlier(train['COVID-19 Deaths']))\n",
    "\n",
    "        \n",
    "\n",
    "#Now we have to drop all of the outliers from the data.\n",
    "\n",
    "print(\"Before we have {} number of rows\".format(len(train)))\n",
    "\n",
    "train = train.drop(Outliers, axis = 0).reset_index(drop = True)\n",
    "\n",
    "\n",
    "\n",
    "\n"
   ]
  },
  {
   "cell_type": "markdown",
   "id": "b65b1bb4",
   "metadata": {
    "papermill": {
     "duration": 0.042944,
     "end_time": "2021-10-12T02:18:32.167462",
     "exception": false,
     "start_time": "2021-10-12T02:18:32.124518",
     "status": "completed"
    },
    "tags": []
   },
   "source": [
    "We also see that that first few months of data was just the start of COVID, therefore the data is going to be different than the test data when COVID is everywhere, so we can also remove that first couple of months of data."
   ]
  },
  {
   "cell_type": "code",
   "execution_count": 13,
   "id": "9a06d2ca",
   "metadata": {
    "execution": {
     "iopub.execute_input": "2021-10-12T02:18:32.260145Z",
     "iopub.status.busy": "2021-10-12T02:18:32.259413Z",
     "iopub.status.idle": "2021-10-12T02:18:32.266259Z",
     "shell.execute_reply": "2021-10-12T02:18:32.265647Z",
     "shell.execute_reply.started": "2021-10-12T02:17:21.596151Z"
    },
    "papermill": {
     "duration": 0.055669,
     "end_time": "2021-10-12T02:18:32.266406",
     "exception": false,
     "start_time": "2021-10-12T02:18:32.210737",
     "status": "completed"
    },
    "tags": []
   },
   "outputs": [],
   "source": [
    "#This removes the first few months of covid data\n",
    "train = train[train['End Date'] > 450]"
   ]
  },
  {
   "cell_type": "code",
   "execution_count": 14,
   "id": "c9e57f02",
   "metadata": {
    "execution": {
     "iopub.execute_input": "2021-10-12T02:18:32.358823Z",
     "iopub.status.busy": "2021-10-12T02:18:32.358164Z",
     "iopub.status.idle": "2021-10-12T02:18:32.361796Z",
     "shell.execute_reply": "2021-10-12T02:18:32.362413Z",
     "shell.execute_reply.started": "2021-10-12T02:17:21.605590Z"
    },
    "papermill": {
     "duration": 0.052346,
     "end_time": "2021-10-12T02:18:32.362602",
     "exception": false,
     "start_time": "2021-10-12T02:18:32.310256",
     "status": "completed"
    },
    "tags": []
   },
   "outputs": [
    {
     "name": "stdout",
     "output_type": "stream",
     "text": [
      "Now we have 61608 number of rows\n"
     ]
    }
   ],
   "source": [
    "print(\"Now we have {} number of rows\".format(len(train)))"
   ]
  },
  {
   "cell_type": "code",
   "execution_count": 15,
   "id": "ba248192",
   "metadata": {
    "execution": {
     "iopub.execute_input": "2021-10-12T02:18:32.458357Z",
     "iopub.status.busy": "2021-10-12T02:18:32.457679Z",
     "iopub.status.idle": "2021-10-12T02:18:32.489527Z",
     "shell.execute_reply": "2021-10-12T02:18:32.490036Z",
     "shell.execute_reply.started": "2021-10-12T02:17:21.617139Z"
    },
    "papermill": {
     "duration": 0.083766,
     "end_time": "2021-10-12T02:18:32.490221",
     "exception": false,
     "start_time": "2021-10-12T02:18:32.406455",
     "status": "completed"
    },
    "tags": []
   },
   "outputs": [
    {
     "data": {
      "text/html": [
       "<div>\n",
       "<style scoped>\n",
       "    .dataframe tbody tr th:only-of-type {\n",
       "        vertical-align: middle;\n",
       "    }\n",
       "\n",
       "    .dataframe tbody tr th {\n",
       "        vertical-align: top;\n",
       "    }\n",
       "\n",
       "    .dataframe thead th {\n",
       "        text-align: right;\n",
       "    }\n",
       "</style>\n",
       "<table border=\"1\" class=\"dataframe\">\n",
       "  <thead>\n",
       "    <tr style=\"text-align: right;\">\n",
       "      <th></th>\n",
       "      <th>id</th>\n",
       "      <th>End Date</th>\n",
       "      <th>MMWR Week</th>\n",
       "      <th>Race and Hispanic Origin Group</th>\n",
       "      <th>Age Group</th>\n",
       "      <th>COVID-19 Deaths</th>\n",
       "    </tr>\n",
       "  </thead>\n",
       "  <tbody>\n",
       "    <tr>\n",
       "      <th>count</th>\n",
       "      <td>61608.000000</td>\n",
       "      <td>61608.000000</td>\n",
       "      <td>49068.000000</td>\n",
       "      <td>61608.000000</td>\n",
       "      <td>61608.000000</td>\n",
       "      <td>46898.000000</td>\n",
       "    </tr>\n",
       "    <tr>\n",
       "      <th>mean</th>\n",
       "      <td>44591.316355</td>\n",
       "      <td>664.864693</td>\n",
       "      <td>25.546283</td>\n",
       "      <td>3.493962</td>\n",
       "      <td>3.992241</td>\n",
       "      <td>39.843490</td>\n",
       "    </tr>\n",
       "    <tr>\n",
       "      <th>std</th>\n",
       "      <td>25744.502538</td>\n",
       "      <td>126.470246</td>\n",
       "      <td>14.601410</td>\n",
       "      <td>2.288491</td>\n",
       "      <td>2.580678</td>\n",
       "      <td>172.201104</td>\n",
       "    </tr>\n",
       "    <tr>\n",
       "      <th>min</th>\n",
       "      <td>864.000000</td>\n",
       "      <td>452.000000</td>\n",
       "      <td>1.000000</td>\n",
       "      <td>0.000000</td>\n",
       "      <td>0.000000</td>\n",
       "      <td>0.000000</td>\n",
       "    </tr>\n",
       "    <tr>\n",
       "      <th>25%</th>\n",
       "      <td>22349.750000</td>\n",
       "      <td>555.000000</td>\n",
       "      <td>14.000000</td>\n",
       "      <td>1.000000</td>\n",
       "      <td>2.000000</td>\n",
       "      <td>0.000000</td>\n",
       "    </tr>\n",
       "    <tr>\n",
       "      <th>50%</th>\n",
       "      <td>43799.500000</td>\n",
       "      <td>665.000000</td>\n",
       "      <td>22.500000</td>\n",
       "      <td>3.000000</td>\n",
       "      <td>4.000000</td>\n",
       "      <td>0.000000</td>\n",
       "    </tr>\n",
       "    <tr>\n",
       "      <th>75%</th>\n",
       "      <td>67265.250000</td>\n",
       "      <td>773.000000</td>\n",
       "      <td>38.000000</td>\n",
       "      <td>5.000000</td>\n",
       "      <td>6.000000</td>\n",
       "      <td>10.000000</td>\n",
       "    </tr>\n",
       "    <tr>\n",
       "      <th>max</th>\n",
       "      <td>89423.000000</td>\n",
       "      <td>881.000000</td>\n",
       "      <td>53.000000</td>\n",
       "      <td>7.000000</td>\n",
       "      <td>8.000000</td>\n",
       "      <td>2782.000000</td>\n",
       "    </tr>\n",
       "  </tbody>\n",
       "</table>\n",
       "</div>"
      ],
      "text/plain": [
       "                 id      End Date     MMWR Week  \\\n",
       "count  61608.000000  61608.000000  49068.000000   \n",
       "mean   44591.316355    664.864693     25.546283   \n",
       "std    25744.502538    126.470246     14.601410   \n",
       "min      864.000000    452.000000      1.000000   \n",
       "25%    22349.750000    555.000000     14.000000   \n",
       "50%    43799.500000    665.000000     22.500000   \n",
       "75%    67265.250000    773.000000     38.000000   \n",
       "max    89423.000000    881.000000     53.000000   \n",
       "\n",
       "       Race and Hispanic Origin Group     Age Group  COVID-19 Deaths  \n",
       "count                    61608.000000  61608.000000     46898.000000  \n",
       "mean                         3.493962      3.992241        39.843490  \n",
       "std                          2.288491      2.580678       172.201104  \n",
       "min                          0.000000      0.000000         0.000000  \n",
       "25%                          1.000000      2.000000         0.000000  \n",
       "50%                          3.000000      4.000000         0.000000  \n",
       "75%                          5.000000      6.000000        10.000000  \n",
       "max                          7.000000      8.000000      2782.000000  "
      ]
     },
     "execution_count": 15,
     "metadata": {},
     "output_type": "execute_result"
    }
   ],
   "source": [
    "train.describe()"
   ]
  },
  {
   "cell_type": "code",
   "execution_count": 16,
   "id": "a8f86306",
   "metadata": {
    "execution": {
     "iopub.execute_input": "2021-10-12T02:18:32.584770Z",
     "iopub.status.busy": "2021-10-12T02:18:32.584042Z",
     "iopub.status.idle": "2021-10-12T02:18:35.128901Z",
     "shell.execute_reply": "2021-10-12T02:18:35.129822Z",
     "shell.execute_reply.started": "2021-10-12T02:17:21.664633Z"
    },
    "papermill": {
     "duration": 2.595357,
     "end_time": "2021-10-12T02:18:35.130110",
     "exception": false,
     "start_time": "2021-10-12T02:18:32.534753",
     "status": "completed"
    },
    "tags": []
   },
   "outputs": [
    {
     "name": "stderr",
     "output_type": "stream",
     "text": [
      "/opt/conda/lib/python3.7/site-packages/seaborn/_decorators.py:43: FutureWarning: Pass the following variables as keyword args: x, y. From version 0.12, the only valid positional argument will be `data`, and passing other arguments without an explicit keyword will result in an error or misinterpretation.\n",
      "  FutureWarning\n"
     ]
    },
    {
     "data": {
      "image/png": "[encoded data removed]",
      "text/plain": [
       "<Figure size 432x288 with 1 Axes>"
      ]
     },
     "metadata": {
      "needs_background": "light"
     },
     "output_type": "display_data"
    }
   ],
   "source": [
    "sb.lineplot(train['End Date'], train['COVID-19 Deaths'])\n",
    "plt.show()\n"
   ]
  },
  {
   "cell_type": "markdown",
   "id": "d514c3b2",
   "metadata": {
    "papermill": {
     "duration": 0.045766,
     "end_time": "2021-10-12T02:18:35.222703",
     "exception": false,
     "start_time": "2021-10-12T02:18:35.176937",
     "status": "completed"
    },
    "tags": []
   },
   "source": [
    "# #2 [1 point] You must check for missing values within the training data and, if required, describe and implement an approach to handle those missing values.\n"
   ]
  },
  {
   "cell_type": "code",
   "execution_count": 17,
   "id": "f7f7f712",
   "metadata": {
    "execution": {
     "iopub.execute_input": "2021-10-12T02:18:35.322622Z",
     "iopub.status.busy": "2021-10-12T02:18:35.321897Z",
     "iopub.status.idle": "2021-10-12T02:18:35.331117Z",
     "shell.execute_reply": "2021-10-12T02:18:35.331613Z",
     "shell.execute_reply.started": "2021-10-12T02:17:24.413208Z"
    },
    "papermill": {
     "duration": 0.059551,
     "end_time": "2021-10-12T02:18:35.331788",
     "exception": false,
     "start_time": "2021-10-12T02:18:35.272237",
     "status": "completed"
    },
    "tags": []
   },
   "outputs": [
    {
     "data": {
      "text/plain": [
       "id                                    0\n",
       "End Date                              0\n",
       "Race and Hispanic Origin Group        0\n",
       "Age Group                             0\n",
       "MMWR Week                         12540\n",
       "COVID-19 Deaths                   14710\n",
       "dtype: int64"
      ]
     },
     "execution_count": 17,
     "metadata": {},
     "output_type": "execute_result"
    }
   ],
   "source": [
    "train.isnull().sum().sort_values()"
   ]
  },
  {
   "cell_type": "markdown",
   "id": "cc4d300c",
   "metadata": {
    "papermill": {
     "duration": 0.046703,
     "end_time": "2021-10-12T02:18:35.427581",
     "exception": false,
     "start_time": "2021-10-12T02:18:35.380878",
     "status": "completed"
    },
    "tags": []
   },
   "source": [
    "Since we are looking specifically for covid19 deaths, let's just remove any data with no covid19 deaths in our training set\n",
    "\n",
    "\n",
    "Additionally, we are going to remove data with missing mmr data because if it doesnt have that information it can be assumed that we aren't dealing with weekly statistics."
   ]
  },
  {
   "cell_type": "code",
   "execution_count": 18,
   "id": "cb160860",
   "metadata": {
    "execution": {
     "iopub.execute_input": "2021-10-12T02:18:35.524635Z",
     "iopub.status.busy": "2021-10-12T02:18:35.523913Z",
     "iopub.status.idle": "2021-10-12T02:18:35.537775Z",
     "shell.execute_reply": "2021-10-12T02:18:35.537257Z",
     "shell.execute_reply.started": "2021-10-12T02:17:24.425533Z"
    },
    "papermill": {
     "duration": 0.064042,
     "end_time": "2021-10-12T02:18:35.537934",
     "exception": false,
     "start_time": "2021-10-12T02:18:35.473892",
     "status": "completed"
    },
    "tags": []
   },
   "outputs": [
    {
     "data": {
      "text/plain": [
       "id                                0\n",
       "End Date                          0\n",
       "MMWR Week                         0\n",
       "Race and Hispanic Origin Group    0\n",
       "Age Group                         0\n",
       "COVID-19 Deaths                   0\n",
       "dtype: int64"
      ]
     },
     "execution_count": 18,
     "metadata": {},
     "output_type": "execute_result"
    }
   ],
   "source": [
    "train = train.dropna(axis = 0, how = 'any')\n",
    "train.isnull().sum().sort_values()"
   ]
  },
  {
   "cell_type": "code",
   "execution_count": 19,
   "id": "84e4d3e9",
   "metadata": {
    "execution": {
     "iopub.execute_input": "2021-10-12T02:18:35.639415Z",
     "iopub.status.busy": "2021-10-12T02:18:35.637253Z",
     "iopub.status.idle": "2021-10-12T02:18:37.868017Z",
     "shell.execute_reply": "2021-10-12T02:18:37.867375Z",
     "shell.execute_reply.started": "2021-10-12T02:17:24.448980Z"
    },
    "papermill": {
     "duration": 2.283357,
     "end_time": "2021-10-12T02:18:37.868156",
     "exception": false,
     "start_time": "2021-10-12T02:18:35.584799",
     "status": "completed"
    },
    "tags": []
   },
   "outputs": [
    {
     "name": "stderr",
     "output_type": "stream",
     "text": [
      "/opt/conda/lib/python3.7/site-packages/seaborn/_decorators.py:43: FutureWarning: Pass the following variables as keyword args: x, y. From version 0.12, the only valid positional argument will be `data`, and passing other arguments without an explicit keyword will result in an error or misinterpretation.\n",
      "  FutureWarning\n"
     ]
    },
    {
     "data": {
      "image/png": "[encoded data removed]",
      "text/plain": [
       "<Figure size 432x288 with 1 Axes>"
      ]
     },
     "metadata": {
      "needs_background": "light"
     },
     "output_type": "display_data"
    }
   ],
   "source": [
    "sb.lineplot(train['End Date'], train['COVID-19 Deaths'])\n",
    "plt.show()"
   ]
  },
  {
   "cell_type": "markdown",
   "id": "915e87f7",
   "metadata": {
    "papermill": {
     "duration": 0.048257,
     "end_time": "2021-10-12T02:18:37.964997",
     "exception": false,
     "start_time": "2021-10-12T02:18:37.916740",
     "status": "completed"
    },
    "tags": []
   },
   "source": [
    "TRAINING"
   ]
  },
  {
   "cell_type": "code",
   "execution_count": 20,
   "id": "b2470aed",
   "metadata": {
    "execution": {
     "iopub.execute_input": "2021-10-12T02:18:38.068733Z",
     "iopub.status.busy": "2021-10-12T02:18:38.068056Z",
     "iopub.status.idle": "2021-10-12T02:18:38.364250Z",
     "shell.execute_reply": "2021-10-12T02:18:38.363671Z",
     "shell.execute_reply.started": "2021-10-12T02:17:26.676442Z"
    },
    "papermill": {
     "duration": 0.35033,
     "end_time": "2021-10-12T02:18:38.364412",
     "exception": false,
     "start_time": "2021-10-12T02:18:38.014082",
     "status": "completed"
    },
    "tags": []
   },
   "outputs": [],
   "source": [
    "from sklearn.model_selection import train_test_split\n",
    "from sklearn.metrics import mean_squared_error\n",
    "from sklearn.model_selection import cross_val_score\n"
   ]
  },
  {
   "cell_type": "code",
   "execution_count": 21,
   "id": "fadb3db1",
   "metadata": {
    "execution": {
     "iopub.execute_input": "2021-10-12T02:18:38.466961Z",
     "iopub.status.busy": "2021-10-12T02:18:38.466225Z",
     "iopub.status.idle": "2021-10-12T02:18:38.479156Z",
     "shell.execute_reply": "2021-10-12T02:18:38.478604Z",
     "shell.execute_reply.started": "2021-10-12T02:17:26.684073Z"
    },
    "papermill": {
     "duration": 0.064686,
     "end_time": "2021-10-12T02:18:38.479317",
     "exception": false,
     "start_time": "2021-10-12T02:18:38.414631",
     "status": "completed"
    },
    "tags": []
   },
   "outputs": [],
   "source": [
    "predictors = train.drop(['COVID-19 Deaths'], axis = 1)\n",
    "target = train[\"COVID-19 Deaths\"]\n",
    "X, X_val, y, y_val = train_test_split(predictors, target, test_size = 0.22, shuffle = True)\n",
    "\n",
    "x_test = test.copy()"
   ]
  },
  {
   "cell_type": "markdown",
   "id": "812586c9",
   "metadata": {
    "papermill": {
     "duration": 0.048336,
     "end_time": "2021-10-12T02:18:38.576337",
     "exception": false,
     "start_time": "2021-10-12T02:18:38.528001",
     "status": "completed"
    },
    "tags": []
   },
   "source": [
    "# #5 [1 point] You must build and train an Ordinary Least Squares model on the training data and evaluate its performance on a set of validation data\n",
    "You must generate a distribution of validation scores, as well as summary statistics for this distribution (using the pandas describe() method)"
   ]
  },
  {
   "cell_type": "code",
   "execution_count": 22,
   "id": "9c721315",
   "metadata": {
    "execution": {
     "iopub.execute_input": "2021-10-12T02:18:38.676744Z",
     "iopub.status.busy": "2021-10-12T02:18:38.676070Z",
     "iopub.status.idle": "2021-10-12T02:18:38.791038Z",
     "shell.execute_reply": "2021-10-12T02:18:38.791713Z",
     "shell.execute_reply.started": "2021-10-12T02:17:26.705594Z"
    },
    "papermill": {
     "duration": 0.16734,
     "end_time": "2021-10-12T02:18:38.791969",
     "exception": false,
     "start_time": "2021-10-12T02:18:38.624629",
     "status": "completed"
    },
    "tags": []
   },
   "outputs": [
    {
     "name": "stdout",
     "output_type": "stream",
     "text": [
      "Ordinary Least Squares: 8.822449101620233 %\n",
      "Validation accuracy 13762.72613628906\n"
     ]
    }
   ],
   "source": [
    "from sklearn.linear_model import LinearRegression\n",
    "\n",
    "model3 = LinearRegression()\n",
    "model3.fit(X,y)\n",
    "print('Ordinary Least Squares:',(model3.score(X, y) * 100),'%')\n",
    "\n",
    "model3VAL = mean_squared_error(y_val, model3.predict(X_val))\n",
    "print('Validation accuracy', model3VAL)"
   ]
  },
  {
   "cell_type": "code",
   "execution_count": 23,
   "id": "2a4772d7",
   "metadata": {
    "execution": {
     "iopub.execute_input": "2021-10-12T02:18:38.948098Z",
     "iopub.status.busy": "2021-10-12T02:18:38.947344Z",
     "iopub.status.idle": "2021-10-12T02:18:38.966429Z",
     "shell.execute_reply": "2021-10-12T02:18:38.965702Z",
     "shell.execute_reply.started": "2021-10-12T02:17:26.733607Z"
    },
    "papermill": {
     "duration": 0.087167,
     "end_time": "2021-10-12T02:18:38.966667",
     "exception": false,
     "start_time": "2021-10-12T02:18:38.879500",
     "status": "completed"
    },
    "tags": []
   },
   "outputs": [
    {
     "data": {
      "text/html": [
       "<div>\n",
       "<style scoped>\n",
       "    .dataframe tbody tr th:only-of-type {\n",
       "        vertical-align: middle;\n",
       "    }\n",
       "\n",
       "    .dataframe tbody tr th {\n",
       "        vertical-align: top;\n",
       "    }\n",
       "\n",
       "    .dataframe thead th {\n",
       "        text-align: right;\n",
       "    }\n",
       "</style>\n",
       "<table border=\"1\" class=\"dataframe\">\n",
       "  <thead>\n",
       "    <tr style=\"text-align: right;\">\n",
       "      <th></th>\n",
       "      <th>id</th>\n",
       "      <th>COVID-19 Deaths</th>\n",
       "    </tr>\n",
       "  </thead>\n",
       "  <tbody>\n",
       "    <tr>\n",
       "      <th>count</th>\n",
       "      <td>1152.000000</td>\n",
       "      <td>1152.000000</td>\n",
       "    </tr>\n",
       "    <tr>\n",
       "      <th>mean</th>\n",
       "      <td>5903.500000</td>\n",
       "      <td>48.711851</td>\n",
       "    </tr>\n",
       "    <tr>\n",
       "      <th>std</th>\n",
       "      <td>332.698061</td>\n",
       "      <td>29.158273</td>\n",
       "    </tr>\n",
       "    <tr>\n",
       "      <th>min</th>\n",
       "      <td>5328.000000</td>\n",
       "      <td>-12.906459</td>\n",
       "    </tr>\n",
       "    <tr>\n",
       "      <th>25%</th>\n",
       "      <td>5615.750000</td>\n",
       "      <td>26.840679</td>\n",
       "    </tr>\n",
       "    <tr>\n",
       "      <th>50%</th>\n",
       "      <td>5903.500000</td>\n",
       "      <td>48.718219</td>\n",
       "    </tr>\n",
       "    <tr>\n",
       "      <th>75%</th>\n",
       "      <td>6191.250000</td>\n",
       "      <td>70.557167</td>\n",
       "    </tr>\n",
       "    <tr>\n",
       "      <th>max</th>\n",
       "      <td>6479.000000</td>\n",
       "      <td>110.291441</td>\n",
       "    </tr>\n",
       "  </tbody>\n",
       "</table>\n",
       "</div>"
      ],
      "text/plain": [
       "                id  COVID-19 Deaths\n",
       "count  1152.000000      1152.000000\n",
       "mean   5903.500000        48.711851\n",
       "std     332.698061        29.158273\n",
       "min    5328.000000       -12.906459\n",
       "25%    5615.750000        26.840679\n",
       "50%    5903.500000        48.718219\n",
       "75%    6191.250000        70.557167\n",
       "max    6479.000000       110.291441"
      ]
     },
     "execution_count": 23,
     "metadata": {},
     "output_type": "execute_result"
    }
   ],
   "source": [
    "Y_pred = model3.predict(x_test)\n",
    "\n",
    "model3df = pd.DataFrame({'id': test['id'], 'COVID-19 Deaths': Y_pred})\n",
    "\n",
    "model3df.describe()"
   ]
  },
  {
   "cell_type": "markdown",
   "id": "73166371",
   "metadata": {
    "papermill": {
     "duration": 0.049749,
     "end_time": "2021-10-12T02:18:39.069337",
     "exception": false,
     "start_time": "2021-10-12T02:18:39.019588",
     "status": "completed"
    },
    "tags": []
   },
   "source": [
    "# #6 [1 point] You must build and train a Ridge Regression model on the training data and evaluate its performance on a set of validation data\n",
    "You must generate a distribution of validation scores, as well as summary statistics for this distribution (using the pandas describe() method)\n"
   ]
  },
  {
   "cell_type": "code",
   "execution_count": 24,
   "id": "419d2175",
   "metadata": {
    "execution": {
     "iopub.execute_input": "2021-10-12T02:18:39.176319Z",
     "iopub.status.busy": "2021-10-12T02:18:39.175616Z",
     "iopub.status.idle": "2021-10-12T02:18:39.198251Z",
     "shell.execute_reply": "2021-10-12T02:18:39.199130Z",
     "shell.execute_reply.started": "2021-10-12T02:17:26.775757Z"
    },
    "papermill": {
     "duration": 0.079909,
     "end_time": "2021-10-12T02:18:39.199412",
     "exception": false,
     "start_time": "2021-10-12T02:18:39.119503",
     "status": "completed"
    },
    "tags": []
   },
   "outputs": [
    {
     "name": "stdout",
     "output_type": "stream",
     "text": [
      "Ridge Score: 8.822449101450758 %\n",
      "Validation accuracy 13762.726941150942\n"
     ]
    }
   ],
   "source": [
    "from sklearn.linear_model import Ridge\n",
    "model1 = Ridge()\n",
    "model1.fit(X,y)\n",
    "\n",
    "print('Ridge Score:',(model1.score(X, y) * 100),'%')\n",
    "\n",
    "model1VAL = mean_squared_error(y_val, model1.predict(X_val))\n",
    "print('Validation accuracy', model1VAL)"
   ]
  },
  {
   "cell_type": "code",
   "execution_count": 25,
   "id": "638870fd",
   "metadata": {
    "execution": {
     "iopub.execute_input": "2021-10-12T02:18:39.359191Z",
     "iopub.status.busy": "2021-10-12T02:18:39.358139Z",
     "iopub.status.idle": "2021-10-12T02:18:39.373406Z",
     "shell.execute_reply": "2021-10-12T02:18:39.373884Z",
     "shell.execute_reply.started": "2021-10-12T02:17:26.803417Z"
    },
    "papermill": {
     "duration": 0.082125,
     "end_time": "2021-10-12T02:18:39.374065",
     "exception": false,
     "start_time": "2021-10-12T02:18:39.291940",
     "status": "completed"
    },
    "tags": []
   },
   "outputs": [
    {
     "data": {
      "text/html": [
       "<div>\n",
       "<style scoped>\n",
       "    .dataframe tbody tr th:only-of-type {\n",
       "        vertical-align: middle;\n",
       "    }\n",
       "\n",
       "    .dataframe tbody tr th {\n",
       "        vertical-align: top;\n",
       "    }\n",
       "\n",
       "    .dataframe thead th {\n",
       "        text-align: right;\n",
       "    }\n",
       "</style>\n",
       "<table border=\"1\" class=\"dataframe\">\n",
       "  <thead>\n",
       "    <tr style=\"text-align: right;\">\n",
       "      <th></th>\n",
       "      <th>id</th>\n",
       "      <th>COVID-19 Deaths</th>\n",
       "    </tr>\n",
       "  </thead>\n",
       "  <tbody>\n",
       "    <tr>\n",
       "      <th>count</th>\n",
       "      <td>1152.000000</td>\n",
       "      <td>1152.000000</td>\n",
       "    </tr>\n",
       "    <tr>\n",
       "      <th>mean</th>\n",
       "      <td>5903.500000</td>\n",
       "      <td>48.711845</td>\n",
       "    </tr>\n",
       "    <tr>\n",
       "      <th>std</th>\n",
       "      <td>332.698061</td>\n",
       "      <td>29.158129</td>\n",
       "    </tr>\n",
       "    <tr>\n",
       "      <th>min</th>\n",
       "      <td>5328.000000</td>\n",
       "      <td>-12.906159</td>\n",
       "    </tr>\n",
       "    <tr>\n",
       "      <th>25%</th>\n",
       "      <td>5615.750000</td>\n",
       "      <td>26.840791</td>\n",
       "    </tr>\n",
       "    <tr>\n",
       "      <th>50%</th>\n",
       "      <td>5903.500000</td>\n",
       "      <td>48.718213</td>\n",
       "    </tr>\n",
       "    <tr>\n",
       "      <th>75%</th>\n",
       "      <td>6191.250000</td>\n",
       "      <td>70.557044</td>\n",
       "    </tr>\n",
       "    <tr>\n",
       "      <th>max</th>\n",
       "      <td>6479.000000</td>\n",
       "      <td>110.291130</td>\n",
       "    </tr>\n",
       "  </tbody>\n",
       "</table>\n",
       "</div>"
      ],
      "text/plain": [
       "                id  COVID-19 Deaths\n",
       "count  1152.000000      1152.000000\n",
       "mean   5903.500000        48.711845\n",
       "std     332.698061        29.158129\n",
       "min    5328.000000       -12.906159\n",
       "25%    5615.750000        26.840791\n",
       "50%    5903.500000        48.718213\n",
       "75%    6191.250000        70.557044\n",
       "max    6479.000000       110.291130"
      ]
     },
     "execution_count": 25,
     "metadata": {},
     "output_type": "execute_result"
    }
   ],
   "source": [
    "Y_pred = model1.predict(x_test)\n",
    "\n",
    "model1df = pd.DataFrame({'id': test['id'], 'COVID-19 Deaths': Y_pred})\n",
    "\n",
    "model1df.describe()"
   ]
  },
  {
   "cell_type": "markdown",
   "id": "4ace4c38",
   "metadata": {
    "papermill": {
     "duration": 0.049848,
     "end_time": "2021-10-12T02:18:39.474196",
     "exception": false,
     "start_time": "2021-10-12T02:18:39.424348",
     "status": "completed"
    },
    "tags": []
   },
   "source": [
    "# #7 [1 point] You must build and train a Lasso Regression model on the training data and evaluate its performance on a set of validation data\n",
    "You must generate a distribution of validation scores, as well as summary statistics for this distribution (using the pandas describe() method)"
   ]
  },
  {
   "cell_type": "code",
   "execution_count": 26,
   "id": "581369e1",
   "metadata": {
    "execution": {
     "iopub.execute_input": "2021-10-12T02:18:39.577573Z",
     "iopub.status.busy": "2021-10-12T02:18:39.576880Z",
     "iopub.status.idle": "2021-10-12T02:18:39.603128Z",
     "shell.execute_reply": "2021-10-12T02:18:39.604793Z",
     "shell.execute_reply.started": "2021-10-12T02:17:26.836796Z"
    },
    "papermill": {
     "duration": 0.080941,
     "end_time": "2021-10-12T02:18:39.605266",
     "exception": false,
     "start_time": "2021-10-12T02:18:39.524325",
     "status": "completed"
    },
    "tags": []
   },
   "outputs": [
    {
     "name": "stdout",
     "output_type": "stream",
     "text": [
      "Lasso Score: 8.82011375583227 %\n",
      "Validation accuracy 13766.000486825395\n"
     ]
    }
   ],
   "source": [
    "from sklearn.linear_model import Lasso\n",
    "\n",
    "model2 = Lasso()\n",
    "model2.fit(X,y)\n",
    "\n",
    "print('Lasso Score:',(model2.score(X, y) * 100),'%')\n",
    "\n",
    "model2VAL = mean_squared_error(y_val, model2.predict(X_val))\n",
    "print('Validation accuracy', model2VAL)"
   ]
  },
  {
   "cell_type": "code",
   "execution_count": 27,
   "id": "77077d30",
   "metadata": {
    "execution": {
     "iopub.execute_input": "2021-10-12T02:18:39.767402Z",
     "iopub.status.busy": "2021-10-12T02:18:39.766705Z",
     "iopub.status.idle": "2021-10-12T02:18:39.781111Z",
     "shell.execute_reply": "2021-10-12T02:18:39.781670Z",
     "shell.execute_reply.started": "2021-10-12T02:17:26.868488Z"
    },
    "papermill": {
     "duration": 0.081381,
     "end_time": "2021-10-12T02:18:39.781867",
     "exception": false,
     "start_time": "2021-10-12T02:18:39.700486",
     "status": "completed"
    },
    "tags": []
   },
   "outputs": [
    {
     "data": {
      "text/html": [
       "<div>\n",
       "<style scoped>\n",
       "    .dataframe tbody tr th:only-of-type {\n",
       "        vertical-align: middle;\n",
       "    }\n",
       "\n",
       "    .dataframe tbody tr th {\n",
       "        vertical-align: top;\n",
       "    }\n",
       "\n",
       "    .dataframe thead th {\n",
       "        text-align: right;\n",
       "    }\n",
       "</style>\n",
       "<table border=\"1\" class=\"dataframe\">\n",
       "  <thead>\n",
       "    <tr style=\"text-align: right;\">\n",
       "      <th></th>\n",
       "      <th>id</th>\n",
       "      <th>COVID-19 Deaths</th>\n",
       "    </tr>\n",
       "  </thead>\n",
       "  <tbody>\n",
       "    <tr>\n",
       "      <th>count</th>\n",
       "      <td>1152.000000</td>\n",
       "      <td>1152.000000</td>\n",
       "    </tr>\n",
       "    <tr>\n",
       "      <th>mean</th>\n",
       "      <td>5903.500000</td>\n",
       "      <td>48.729193</td>\n",
       "    </tr>\n",
       "    <tr>\n",
       "      <th>std</th>\n",
       "      <td>332.698061</td>\n",
       "      <td>28.664013</td>\n",
       "    </tr>\n",
       "    <tr>\n",
       "      <th>min</th>\n",
       "      <td>5328.000000</td>\n",
       "      <td>-11.705120</td>\n",
       "    </tr>\n",
       "    <tr>\n",
       "      <th>25%</th>\n",
       "      <td>5615.750000</td>\n",
       "      <td>27.157042</td>\n",
       "    </tr>\n",
       "    <tr>\n",
       "      <th>50%</th>\n",
       "      <td>5903.500000</td>\n",
       "      <td>48.709800</td>\n",
       "    </tr>\n",
       "    <tr>\n",
       "      <th>75%</th>\n",
       "      <td>6191.250000</td>\n",
       "      <td>70.314054</td>\n",
       "    </tr>\n",
       "    <tr>\n",
       "      <th>max</th>\n",
       "      <td>6479.000000</td>\n",
       "      <td>109.124720</td>\n",
       "    </tr>\n",
       "  </tbody>\n",
       "</table>\n",
       "</div>"
      ],
      "text/plain": [
       "                id  COVID-19 Deaths\n",
       "count  1152.000000      1152.000000\n",
       "mean   5903.500000        48.729193\n",
       "std     332.698061        28.664013\n",
       "min    5328.000000       -11.705120\n",
       "25%    5615.750000        27.157042\n",
       "50%    5903.500000        48.709800\n",
       "75%    6191.250000        70.314054\n",
       "max    6479.000000       109.124720"
      ]
     },
     "execution_count": 27,
     "metadata": {},
     "output_type": "execute_result"
    }
   ],
   "source": [
    "Y_pred = model2.predict(x_test)\n",
    "\n",
    "model2df = pd.DataFrame({'id': test['id'], 'COVID-19 Deaths': Y_pred})\n",
    "\n",
    "model2df.describe()"
   ]
  },
  {
   "cell_type": "markdown",
   "id": "a3f67816",
   "metadata": {
    "papermill": {
     "duration": 0.050661,
     "end_time": "2021-10-12T02:18:39.884135",
     "exception": false,
     "start_time": "2021-10-12T02:18:39.833474",
     "status": "completed"
    },
    "tags": []
   },
   "source": [
    "# #8 [1 point] You must build and train an Elastic Net Regression on the training data and evaluate its performance on a set of validation data\n",
    "You must generate a distribution of validation scores, as well as summary statistics for this distribution (using the pandas describe() method)\n"
   ]
  },
  {
   "cell_type": "code",
   "execution_count": 28,
   "id": "82a4a7f8",
   "metadata": {
    "execution": {
     "iopub.execute_input": "2021-10-12T02:18:39.997329Z",
     "iopub.status.busy": "2021-10-12T02:18:39.991652Z",
     "iopub.status.idle": "2021-10-12T02:18:40.013932Z",
     "shell.execute_reply": "2021-10-12T02:18:40.014990Z",
     "shell.execute_reply.started": "2021-10-12T02:17:26.902404Z"
    },
    "papermill": {
     "duration": 0.078917,
     "end_time": "2021-10-12T02:18:40.015278",
     "exception": false,
     "start_time": "2021-10-12T02:18:39.936361",
     "status": "completed"
    },
    "tags": []
   },
   "outputs": [
    {
     "name": "stdout",
     "output_type": "stream",
     "text": [
      "Elastic Net Score:  8.7823678439931 %\n",
      "Validation accuracy 13780.560547823516\n"
     ]
    }
   ],
   "source": [
    "from sklearn.linear_model import ElasticNet\n",
    "\n",
    "model4 = ElasticNet()\n",
    "model4.fit(X, y)\n",
    "\n",
    "print('Elastic Net Score: ',(model4.score(X, y) * 100),'%')\n",
    "\n",
    "model4VAL = mean_squared_error(y_val, model4.predict(X_val))\n",
    "print('Validation accuracy', model4VAL)"
   ]
  },
  {
   "cell_type": "code",
   "execution_count": 29,
   "id": "c3757ac4",
   "metadata": {
    "execution": {
     "iopub.execute_input": "2021-10-12T02:18:40.178939Z",
     "iopub.status.busy": "2021-10-12T02:18:40.178227Z",
     "iopub.status.idle": "2021-10-12T02:18:40.191560Z",
     "shell.execute_reply": "2021-10-12T02:18:40.192057Z",
     "shell.execute_reply.started": "2021-10-12T02:17:26.932791Z"
    },
    "papermill": {
     "duration": 0.081416,
     "end_time": "2021-10-12T02:18:40.192225",
     "exception": false,
     "start_time": "2021-10-12T02:18:40.110809",
     "status": "completed"
    },
    "tags": []
   },
   "outputs": [
    {
     "data": {
      "text/html": [
       "<div>\n",
       "<style scoped>\n",
       "    .dataframe tbody tr th:only-of-type {\n",
       "        vertical-align: middle;\n",
       "    }\n",
       "\n",
       "    .dataframe tbody tr th {\n",
       "        vertical-align: top;\n",
       "    }\n",
       "\n",
       "    .dataframe thead th {\n",
       "        text-align: right;\n",
       "    }\n",
       "</style>\n",
       "<table border=\"1\" class=\"dataframe\">\n",
       "  <thead>\n",
       "    <tr style=\"text-align: right;\">\n",
       "      <th></th>\n",
       "      <th>id</th>\n",
       "      <th>COVID-19 Deaths</th>\n",
       "    </tr>\n",
       "  </thead>\n",
       "  <tbody>\n",
       "    <tr>\n",
       "      <th>count</th>\n",
       "      <td>1152.000000</td>\n",
       "      <td>1152.000000</td>\n",
       "    </tr>\n",
       "    <tr>\n",
       "      <th>mean</th>\n",
       "      <td>5903.500000</td>\n",
       "      <td>48.642026</td>\n",
       "    </tr>\n",
       "    <tr>\n",
       "      <th>std</th>\n",
       "      <td>332.698061</td>\n",
       "      <td>26.962590</td>\n",
       "    </tr>\n",
       "    <tr>\n",
       "      <th>min</th>\n",
       "      <td>5328.000000</td>\n",
       "      <td>-8.233119</td>\n",
       "    </tr>\n",
       "    <tr>\n",
       "      <th>25%</th>\n",
       "      <td>5615.750000</td>\n",
       "      <td>28.249958</td>\n",
       "    </tr>\n",
       "    <tr>\n",
       "      <th>50%</th>\n",
       "      <td>5903.500000</td>\n",
       "      <td>48.622561</td>\n",
       "    </tr>\n",
       "    <tr>\n",
       "      <th>75%</th>\n",
       "      <td>6191.250000</td>\n",
       "      <td>69.046866</td>\n",
       "    </tr>\n",
       "    <tr>\n",
       "      <th>max</th>\n",
       "      <td>6479.000000</td>\n",
       "      <td>105.478242</td>\n",
       "    </tr>\n",
       "  </tbody>\n",
       "</table>\n",
       "</div>"
      ],
      "text/plain": [
       "                id  COVID-19 Deaths\n",
       "count  1152.000000      1152.000000\n",
       "mean   5903.500000        48.642026\n",
       "std     332.698061        26.962590\n",
       "min    5328.000000        -8.233119\n",
       "25%    5615.750000        28.249958\n",
       "50%    5903.500000        48.622561\n",
       "75%    6191.250000        69.046866\n",
       "max    6479.000000       105.478242"
      ]
     },
     "execution_count": 29,
     "metadata": {},
     "output_type": "execute_result"
    }
   ],
   "source": [
    "Y_pred = model4.predict(x_test)\n",
    "\n",
    "model4df = pd.DataFrame({'id': test['id'], 'COVID-19 Deaths': Y_pred})\n",
    "\n",
    "model4df.describe()"
   ]
  },
  {
   "cell_type": "markdown",
   "id": "00cfa771",
   "metadata": {
    "papermill": {
     "duration": 0.052668,
     "end_time": "2021-10-12T02:18:40.297060",
     "exception": false,
     "start_time": "2021-10-12T02:18:40.244392",
     "status": "completed"
    },
    "tags": []
   },
   "source": [
    "# #10 [2 points] You must select the best model that you have generated and use that model to predict the target vector for the test data.\n",
    "You must output this target vector to the notebook as well as save it to your submission.csv file."
   ]
  },
  {
   "cell_type": "code",
   "execution_count": 30,
   "id": "45f581b9",
   "metadata": {
    "execution": {
     "iopub.execute_input": "2021-10-12T02:18:40.438840Z",
     "iopub.status.busy": "2021-10-12T02:18:40.403482Z",
     "iopub.status.idle": "2021-10-12T02:18:40.632574Z",
     "shell.execute_reply": "2021-10-12T02:18:40.631856Z",
     "shell.execute_reply.started": "2021-10-12T02:17:26.967219Z"
    },
    "papermill": {
     "duration": 0.283758,
     "end_time": "2021-10-12T02:18:40.632726",
     "exception": false,
     "start_time": "2021-10-12T02:18:40.348968",
     "status": "completed"
    },
    "tags": []
   },
   "outputs": [
    {
     "name": "stderr",
     "output_type": "stream",
     "text": [
      "/opt/conda/lib/python3.7/site-packages/seaborn/_decorators.py:43: FutureWarning: Pass the following variables as keyword args: x, y. From version 0.12, the only valid positional argument will be `data`, and passing other arguments without an explicit keyword will result in an error or misinterpretation.\n",
      "  FutureWarning\n"
     ]
    },
    {
     "data": {
      "text/plain": [
       "<AxesSubplot:xlabel='Name', ylabel='Validation Score'>"
      ]
     },
     "execution_count": 30,
     "metadata": {},
     "output_type": "execute_result"
    },
    {
     "data": {
      "image/png": "[encoded data removed]",
      "text/plain": [
       "<Figure size 432x288 with 1 Axes>"
      ]
     },
     "metadata": {
      "needs_background": "light"
     },
     "output_type": "display_data"
    }
   ],
   "source": [
    "d = {'Name': ['Ridge', 'Lasso', 'LinearRegression', 'ElasticNet'], 'Validation Score': [model1VAL, model2VAL, model3VAL, model4VAL]}\n",
    "\n",
    "ValidationDF = pd.DataFrame(data = d)\n",
    "\n",
    "#ValidationDF.head()\n",
    "\n",
    "sb.barplot(ValidationDF['Name'], ValidationDF['Validation Score'] )"
   ]
  },
  {
   "cell_type": "markdown",
   "id": "92db76a8",
   "metadata": {
    "papermill": {
     "duration": 0.053096,
     "end_time": "2021-10-12T02:18:40.739236",
     "exception": false,
     "start_time": "2021-10-12T02:18:40.686140",
     "status": "completed"
    },
    "tags": []
   },
   "source": [
    "Looking at the data, they are all extremely similar, however Linear Regression has the best score marginally so we are going to go with that."
   ]
  },
  {
   "cell_type": "code",
   "execution_count": 31,
   "id": "1c2d5416",
   "metadata": {
    "execution": {
     "iopub.execute_input": "2021-10-12T02:18:40.856643Z",
     "iopub.status.busy": "2021-10-12T02:18:40.855261Z",
     "iopub.status.idle": "2021-10-12T02:18:40.866726Z",
     "shell.execute_reply": "2021-10-12T02:18:40.867242Z",
     "shell.execute_reply.started": "2021-10-12T02:17:27.175610Z"
    },
    "papermill": {
     "duration": 0.073839,
     "end_time": "2021-10-12T02:18:40.867423",
     "exception": false,
     "start_time": "2021-10-12T02:18:40.793584",
     "status": "completed"
    },
    "tags": []
   },
   "outputs": [
    {
     "name": "stdout",
     "output_type": "stream",
     "text": [
      "Submission GOOD\n"
     ]
    }
   ],
   "source": [
    "\n",
    "\n",
    "#Ordinary Least Squares Linear Regression had the best scores therefore we are going to use that as our submission\n",
    "Y_pred = model3.predict(x_test)\n",
    "\n",
    "submit = pd.DataFrame({'id': test['id'], 'COVID-19 Deaths': Y_pred})\n",
    "\n",
    "\n",
    "submit.to_csv('submission.csv', index = False)\n",
    "print(\"Submission GOOD\")"
   ]
  },
  {
   "cell_type": "code",
   "execution_count": 32,
   "id": "b7ccc317",
   "metadata": {
    "execution": {
     "iopub.execute_input": "2021-10-12T02:18:40.992926Z",
     "iopub.status.busy": "2021-10-12T02:18:40.991836Z",
     "iopub.status.idle": "2021-10-12T02:18:40.995902Z",
     "shell.execute_reply": "2021-10-12T02:18:40.995373Z",
     "shell.execute_reply.started": "2021-10-12T02:17:27.193462Z"
    },
    "papermill": {
     "duration": 0.07435,
     "end_time": "2021-10-12T02:18:40.996050",
     "exception": false,
     "start_time": "2021-10-12T02:18:40.921700",
     "status": "completed"
    },
    "tags": []
   },
   "outputs": [
    {
     "data": {
      "text/html": [
       "<div>\n",
       "<style scoped>\n",
       "    .dataframe tbody tr th:only-of-type {\n",
       "        vertical-align: middle;\n",
       "    }\n",
       "\n",
       "    .dataframe tbody tr th {\n",
       "        vertical-align: top;\n",
       "    }\n",
       "\n",
       "    .dataframe thead th {\n",
       "        text-align: right;\n",
       "    }\n",
       "</style>\n",
       "<table border=\"1\" class=\"dataframe\">\n",
       "  <thead>\n",
       "    <tr style=\"text-align: right;\">\n",
       "      <th></th>\n",
       "      <th>id</th>\n",
       "      <th>COVID-19 Deaths</th>\n",
       "    </tr>\n",
       "  </thead>\n",
       "  <tbody>\n",
       "    <tr>\n",
       "      <th>count</th>\n",
       "      <td>1152.000000</td>\n",
       "      <td>1152.000000</td>\n",
       "    </tr>\n",
       "    <tr>\n",
       "      <th>mean</th>\n",
       "      <td>5903.500000</td>\n",
       "      <td>48.711851</td>\n",
       "    </tr>\n",
       "    <tr>\n",
       "      <th>std</th>\n",
       "      <td>332.698061</td>\n",
       "      <td>29.158273</td>\n",
       "    </tr>\n",
       "    <tr>\n",
       "      <th>min</th>\n",
       "      <td>5328.000000</td>\n",
       "      <td>-12.906459</td>\n",
       "    </tr>\n",
       "    <tr>\n",
       "      <th>25%</th>\n",
       "      <td>5615.750000</td>\n",
       "      <td>26.840679</td>\n",
       "    </tr>\n",
       "    <tr>\n",
       "      <th>50%</th>\n",
       "      <td>5903.500000</td>\n",
       "      <td>48.718219</td>\n",
       "    </tr>\n",
       "    <tr>\n",
       "      <th>75%</th>\n",
       "      <td>6191.250000</td>\n",
       "      <td>70.557167</td>\n",
       "    </tr>\n",
       "    <tr>\n",
       "      <th>max</th>\n",
       "      <td>6479.000000</td>\n",
       "      <td>110.291441</td>\n",
       "    </tr>\n",
       "  </tbody>\n",
       "</table>\n",
       "</div>"
      ],
      "text/plain": [
       "                id  COVID-19 Deaths\n",
       "count  1152.000000      1152.000000\n",
       "mean   5903.500000        48.711851\n",
       "std     332.698061        29.158273\n",
       "min    5328.000000       -12.906459\n",
       "25%    5615.750000        26.840679\n",
       "50%    5903.500000        48.718219\n",
       "75%    6191.250000        70.557167\n",
       "max    6479.000000       110.291441"
      ]
     },
     "execution_count": 32,
     "metadata": {},
     "output_type": "execute_result"
    }
   ],
   "source": [
    "submit.describe()"
   ]
  }
 ],
 "metadata": {
  "kernelspec": {
   "display_name": "Python 3",
   "language": "python",
   "name": "python3"
  },
  "language_info": {
   "codemirror_mode": {
    "name": "ipython",
    "version": 3
   },
   "file_extension": ".py",
   "mimetype": "text/x-python",
   "name": "python",
   "nbconvert_exporter": "python",
   "pygments_lexer": "ipython3",
   "version": "3.7.10"
  },
  "papermill": {
   "default_parameters": {},
   "duration": 25.591544,
   "end_time": "2021-10-12T02:18:41.760100",
   "environment_variables": {},
   "exception": null,
   "input_path": "__notebook__.ipynb",
   "output_path": "__notebook__.ipynb",
   "parameters": {},
   "start_time": "2021-10-12T02:18:16.168556",
   "version": "2.3.3"
  }
 },
 "nbformat": 4,
 "nbformat_minor": 5
}
