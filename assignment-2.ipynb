{
 "cells": [
  {
   "cell_type": "markdown",
   "id": "4c367860",
   "metadata": {},
   "source": [
    "## Assignment 2\n",
    "This notebook builds machine learning models that predicts ESRB rating of video game given features such as \"Blood\" and \"Fantasy Violence\"\n",
    "\n",
    "For more information here is a link to the competition: [https://www.kaggle.com/competitions/cap-4611-2021-fall-assignment-02](https://www.kaggle.com/competitions/cap-4611-2021-fall-assignment-02)"
   ]
  },
  {
   "cell_type": "code",
   "execution_count": 1,
   "id": "30816b3b",
   "metadata": {
    "_cell_guid": "b1076dfc-b9ad-4769-8c92-a6c4dae69d19",
    "_uuid": "8f2839f25d086af736a60e9eeb907d3b93b6e0e5",
    "execution": {
     "iopub.execute_input": "2021-10-25T22:08:03.674893Z",
     "iopub.status.busy": "2021-10-25T22:08:03.669734Z",
     "iopub.status.idle": "2021-10-25T22:08:04.737812Z",
     "shell.execute_reply": "2021-10-25T22:08:04.736986Z",
     "shell.execute_reply.started": "2021-10-25T22:04:26.477249Z"
    },
    "papermill": {
     "duration": 1.104289,
     "end_time": "2021-10-25T22:08:04.737988",
     "exception": false,
     "start_time": "2021-10-25T22:08:03.633699",
     "status": "completed"
    },
    "tags": []
   },
   "outputs": [
    {
     "name": "stdout",
     "output_type": "stream",
     "text": [
      "/kaggle/input/inputd/sample_submission.csv\n",
      "/kaggle/input/inputd/eval.csv\n",
      "/kaggle/input/inputd/train.csv\n"
     ]
    }
   ],
   "source": [
    "# This Python 3 environment comes with many helpful analytics libraries installed\n",
    "# It is defined by the kaggle/python Docker image: https://github.com/kaggle/docker-python\n",
    "# For example, here's several helpful packages to load\n",
    "\n",
    "import numpy as np # linear algebra\n",
    "import pandas as pd # data processing, CSV file I/O (e.g. pd.read_csv)\n",
    "import seaborn as sb # Data visualization\n",
    "import matplotlib.pyplot as plt\n",
    "import scipy as stats\n",
    "\n",
    "\n",
    "# Input data files are available in the read-only \"../input/\" directory\n",
    "# For example, running this (by clicking run or pressing Shift+Enter) will list all files under the input directory\n",
    "\n",
    "import os\n",
    "for dirname, _, filenames in os.walk('/kaggle/input'):\n",
    "    for filename in filenames:\n",
    "        print(os.path.join(dirname, filename))\n",
    "\n",
    "# You can write up to 20GB to the current directory (/kaggle/working/) that gets preserved as output when you create a version using \"Save & Run All\" \n",
    "# You can also write temporary files to /kaggle/temp/, but they won't be saved outside of the current session"
   ]
  },
  {
   "cell_type": "markdown",
   "id": "b80e4819",
   "metadata": {
    "papermill": {
     "duration": 0.021705,
     "end_time": "2021-10-25T22:08:04.782534",
     "exception": false,
     "start_time": "2021-10-25T22:08:04.760829",
     "status": "completed"
    },
    "tags": []
   },
   "source": [
    "# [2 point] You must load the data from the provided CSV files.\n"
   ]
  },
  {
   "cell_type": "code",
   "execution_count": 2,
   "id": "a29c7995",
   "metadata": {
    "execution": {
     "iopub.execute_input": "2021-10-25T22:08:04.831722Z",
     "iopub.status.busy": "2021-10-25T22:08:04.830666Z",
     "iopub.status.idle": "2021-10-25T22:08:04.872575Z",
     "shell.execute_reply": "2021-10-25T22:08:04.873195Z",
     "shell.execute_reply.started": "2021-10-25T22:04:26.489500Z"
    },
    "papermill": {
     "duration": 0.068515,
     "end_time": "2021-10-25T22:08:04.873395",
     "exception": false,
     "start_time": "2021-10-25T22:08:04.804880",
     "status": "completed"
    },
    "tags": []
   },
   "outputs": [],
   "source": [
    "train = pd.read_csv(\"../input/inputd/train.csv\")\n",
    "test = pd.read_csv(\"../input/inputd/eval.csv\")\n",
    "submission = pd.read_csv(\"../input/inputd/sample_submission.csv\")"
   ]
  },
  {
   "cell_type": "code",
   "execution_count": 3,
   "id": "de0c3f94",
   "metadata": {
    "execution": {
     "iopub.execute_input": "2021-10-25T22:08:04.922931Z",
     "iopub.status.busy": "2021-10-25T22:08:04.921895Z",
     "iopub.status.idle": "2021-10-25T22:08:04.957246Z",
     "shell.execute_reply": "2021-10-25T22:08:04.957798Z",
     "shell.execute_reply.started": "2021-10-25T22:04:26.524289Z"
    },
    "papermill": {
     "duration": 0.061933,
     "end_time": "2021-10-25T22:08:04.958001",
     "exception": false,
     "start_time": "2021-10-25T22:08:04.896068",
     "status": "completed"
    },
    "tags": []
   },
   "outputs": [
    {
     "data": {
      "text/html": [
       "<div>\n",
       "<style scoped>\n",
       "    .dataframe tbody tr th:only-of-type {\n",
       "        vertical-align: middle;\n",
       "    }\n",
       "\n",
       "    .dataframe tbody tr th {\n",
       "        vertical-align: top;\n",
       "    }\n",
       "\n",
       "    .dataframe thead th {\n",
       "        text-align: right;\n",
       "    }\n",
       "</style>\n",
       "<table border=\"1\" class=\"dataframe\">\n",
       "  <thead>\n",
       "    <tr style=\"text-align: right;\">\n",
       "      <th></th>\n",
       "      <th>id</th>\n",
       "      <th>title</th>\n",
       "      <th>console</th>\n",
       "      <th>alcohol_reference</th>\n",
       "      <th>animated_blood</th>\n",
       "      <th>blood</th>\n",
       "      <th>blood_and_gore</th>\n",
       "      <th>cartoon_violence</th>\n",
       "      <th>crude_humor</th>\n",
       "      <th>drug_reference</th>\n",
       "      <th>...</th>\n",
       "      <th>sexual_content</th>\n",
       "      <th>sexual_themes</th>\n",
       "      <th>simulated_gambling</th>\n",
       "      <th>strong_janguage</th>\n",
       "      <th>strong_sexual_content</th>\n",
       "      <th>suggestive_themes</th>\n",
       "      <th>use_of_alcohol</th>\n",
       "      <th>use_of_drugs_and_alcohol</th>\n",
       "      <th>violence</th>\n",
       "      <th>esrb_rating</th>\n",
       "    </tr>\n",
       "  </thead>\n",
       "  <tbody>\n",
       "    <tr>\n",
       "      <th>0</th>\n",
       "      <td>474</td>\n",
       "      <td>Road to Ballhalla</td>\n",
       "      <td>1</td>\n",
       "      <td>0</td>\n",
       "      <td>0</td>\n",
       "      <td>0</td>\n",
       "      <td>0</td>\n",
       "      <td>0</td>\n",
       "      <td>0</td>\n",
       "      <td>0</td>\n",
       "      <td>...</td>\n",
       "      <td>0</td>\n",
       "      <td>0</td>\n",
       "      <td>0</td>\n",
       "      <td>0</td>\n",
       "      <td>0</td>\n",
       "      <td>0</td>\n",
       "      <td>0</td>\n",
       "      <td>0</td>\n",
       "      <td>0</td>\n",
       "      <td>E</td>\n",
       "    </tr>\n",
       "    <tr>\n",
       "      <th>1</th>\n",
       "      <td>475</td>\n",
       "      <td>RollerCoaster Legends II: Thor's Hammer</td>\n",
       "      <td>0</td>\n",
       "      <td>0</td>\n",
       "      <td>0</td>\n",
       "      <td>0</td>\n",
       "      <td>0</td>\n",
       "      <td>0</td>\n",
       "      <td>0</td>\n",
       "      <td>0</td>\n",
       "      <td>...</td>\n",
       "      <td>0</td>\n",
       "      <td>0</td>\n",
       "      <td>0</td>\n",
       "      <td>0</td>\n",
       "      <td>0</td>\n",
       "      <td>0</td>\n",
       "      <td>0</td>\n",
       "      <td>0</td>\n",
       "      <td>0</td>\n",
       "      <td>ET</td>\n",
       "    </tr>\n",
       "    <tr>\n",
       "      <th>2</th>\n",
       "      <td>476</td>\n",
       "      <td>Island Time</td>\n",
       "      <td>0</td>\n",
       "      <td>0</td>\n",
       "      <td>0</td>\n",
       "      <td>0</td>\n",
       "      <td>0</td>\n",
       "      <td>0</td>\n",
       "      <td>0</td>\n",
       "      <td>0</td>\n",
       "      <td>...</td>\n",
       "      <td>0</td>\n",
       "      <td>0</td>\n",
       "      <td>0</td>\n",
       "      <td>0</td>\n",
       "      <td>0</td>\n",
       "      <td>0</td>\n",
       "      <td>0</td>\n",
       "      <td>0</td>\n",
       "      <td>0</td>\n",
       "      <td>ET</td>\n",
       "    </tr>\n",
       "    <tr>\n",
       "      <th>3</th>\n",
       "      <td>477</td>\n",
       "      <td>Bridge Constructor Portal</td>\n",
       "      <td>1</td>\n",
       "      <td>0</td>\n",
       "      <td>0</td>\n",
       "      <td>0</td>\n",
       "      <td>0</td>\n",
       "      <td>0</td>\n",
       "      <td>0</td>\n",
       "      <td>0</td>\n",
       "      <td>...</td>\n",
       "      <td>0</td>\n",
       "      <td>0</td>\n",
       "      <td>0</td>\n",
       "      <td>0</td>\n",
       "      <td>0</td>\n",
       "      <td>0</td>\n",
       "      <td>0</td>\n",
       "      <td>0</td>\n",
       "      <td>0</td>\n",
       "      <td>ET</td>\n",
       "    </tr>\n",
       "    <tr>\n",
       "      <th>4</th>\n",
       "      <td>478</td>\n",
       "      <td>Secret of Mana</td>\n",
       "      <td>0</td>\n",
       "      <td>0</td>\n",
       "      <td>0</td>\n",
       "      <td>0</td>\n",
       "      <td>0</td>\n",
       "      <td>0</td>\n",
       "      <td>0</td>\n",
       "      <td>0</td>\n",
       "      <td>...</td>\n",
       "      <td>0</td>\n",
       "      <td>0</td>\n",
       "      <td>0</td>\n",
       "      <td>0</td>\n",
       "      <td>0</td>\n",
       "      <td>0</td>\n",
       "      <td>0</td>\n",
       "      <td>0</td>\n",
       "      <td>0</td>\n",
       "      <td>ET</td>\n",
       "    </tr>\n",
       "  </tbody>\n",
       "</table>\n",
       "<p>5 rows × 35 columns</p>\n",
       "</div>"
      ],
      "text/plain": [
       "    id                                    title  console  alcohol_reference  \\\n",
       "0  474                        Road to Ballhalla        1                  0   \n",
       "1  475  RollerCoaster Legends II: Thor's Hammer        0                  0   \n",
       "2  476                              Island Time        0                  0   \n",
       "3  477                Bridge Constructor Portal        1                  0   \n",
       "4  478                           Secret of Mana        0                  0   \n",
       "\n",
       "   animated_blood  blood  blood_and_gore  cartoon_violence  crude_humor  \\\n",
       "0               0      0               0                 0            0   \n",
       "1               0      0               0                 0            0   \n",
       "2               0      0               0                 0            0   \n",
       "3               0      0               0                 0            0   \n",
       "4               0      0               0                 0            0   \n",
       "\n",
       "   drug_reference  ...  sexual_content  sexual_themes  simulated_gambling  \\\n",
       "0               0  ...               0              0                   0   \n",
       "1               0  ...               0              0                   0   \n",
       "2               0  ...               0              0                   0   \n",
       "3               0  ...               0              0                   0   \n",
       "4               0  ...               0              0                   0   \n",
       "\n",
       "   strong_janguage  strong_sexual_content  suggestive_themes  use_of_alcohol  \\\n",
       "0                0                      0                  0               0   \n",
       "1                0                      0                  0               0   \n",
       "2                0                      0                  0               0   \n",
       "3                0                      0                  0               0   \n",
       "4                0                      0                  0               0   \n",
       "\n",
       "   use_of_drugs_and_alcohol  violence  esrb_rating  \n",
       "0                         0         0            E  \n",
       "1                         0         0           ET  \n",
       "2                         0         0           ET  \n",
       "3                         0         0           ET  \n",
       "4                         0         0           ET  \n",
       "\n",
       "[5 rows x 35 columns]"
      ]
     },
     "execution_count": 3,
     "metadata": {},
     "output_type": "execute_result"
    }
   ],
   "source": [
    "train.head()"
   ]
  },
  {
   "cell_type": "markdown",
   "id": "4f4c8e60",
   "metadata": {
    "papermill": {
     "duration": 0.022699,
     "end_time": "2021-10-25T22:08:05.003798",
     "exception": false,
     "start_time": "2021-10-25T22:08:04.981099",
     "status": "completed"
    },
    "tags": []
   },
   "source": [
    "First there is a lot of data here that is useless to us and some that is redudant.\n",
    "\n",
    "Let's remove that data."
   ]
  },
  {
   "cell_type": "code",
   "execution_count": 4,
   "id": "35d53d82",
   "metadata": {
    "execution": {
     "iopub.execute_input": "2021-10-25T22:08:05.055233Z",
     "iopub.status.busy": "2021-10-25T22:08:05.054106Z",
     "iopub.status.idle": "2021-10-25T22:08:05.063719Z",
     "shell.execute_reply": "2021-10-25T22:08:05.064293Z",
     "shell.execute_reply.started": "2021-10-25T22:04:26.548071Z"
    },
    "papermill": {
     "duration": 0.036958,
     "end_time": "2021-10-25T22:08:05.064503",
     "exception": false,
     "start_time": "2021-10-25T22:08:05.027545",
     "status": "completed"
    },
    "tags": []
   },
   "outputs": [],
   "source": [
    "train = train.drop(['title'], axis = 1)"
   ]
  },
  {
   "cell_type": "code",
   "execution_count": 5,
   "id": "2fd1909c",
   "metadata": {
    "execution": {
     "iopub.execute_input": "2021-10-25T22:08:05.115243Z",
     "iopub.status.busy": "2021-10-25T22:08:05.114155Z",
     "iopub.status.idle": "2021-10-25T22:08:05.134622Z",
     "shell.execute_reply": "2021-10-25T22:08:05.135328Z",
     "shell.execute_reply.started": "2021-10-25T22:04:26.556253Z"
    },
    "papermill": {
     "duration": 0.048082,
     "end_time": "2021-10-25T22:08:05.135539",
     "exception": false,
     "start_time": "2021-10-25T22:08:05.087457",
     "status": "completed"
    },
    "tags": []
   },
   "outputs": [
    {
     "data": {
      "text/html": [
       "<div>\n",
       "<style scoped>\n",
       "    .dataframe tbody tr th:only-of-type {\n",
       "        vertical-align: middle;\n",
       "    }\n",
       "\n",
       "    .dataframe tbody tr th {\n",
       "        vertical-align: top;\n",
       "    }\n",
       "\n",
       "    .dataframe thead th {\n",
       "        text-align: right;\n",
       "    }\n",
       "</style>\n",
       "<table border=\"1\" class=\"dataframe\">\n",
       "  <thead>\n",
       "    <tr style=\"text-align: right;\">\n",
       "      <th></th>\n",
       "      <th>id</th>\n",
       "      <th>console</th>\n",
       "      <th>alcohol_reference</th>\n",
       "      <th>animated_blood</th>\n",
       "      <th>blood</th>\n",
       "      <th>blood_and_gore</th>\n",
       "      <th>cartoon_violence</th>\n",
       "      <th>crude_humor</th>\n",
       "      <th>drug_reference</th>\n",
       "      <th>fantasy_violence</th>\n",
       "      <th>...</th>\n",
       "      <th>sexual_content</th>\n",
       "      <th>sexual_themes</th>\n",
       "      <th>simulated_gambling</th>\n",
       "      <th>strong_janguage</th>\n",
       "      <th>strong_sexual_content</th>\n",
       "      <th>suggestive_themes</th>\n",
       "      <th>use_of_alcohol</th>\n",
       "      <th>use_of_drugs_and_alcohol</th>\n",
       "      <th>violence</th>\n",
       "      <th>esrb_rating</th>\n",
       "    </tr>\n",
       "  </thead>\n",
       "  <tbody>\n",
       "    <tr>\n",
       "      <th>0</th>\n",
       "      <td>474</td>\n",
       "      <td>1</td>\n",
       "      <td>0</td>\n",
       "      <td>0</td>\n",
       "      <td>0</td>\n",
       "      <td>0</td>\n",
       "      <td>0</td>\n",
       "      <td>0</td>\n",
       "      <td>0</td>\n",
       "      <td>0</td>\n",
       "      <td>...</td>\n",
       "      <td>0</td>\n",
       "      <td>0</td>\n",
       "      <td>0</td>\n",
       "      <td>0</td>\n",
       "      <td>0</td>\n",
       "      <td>0</td>\n",
       "      <td>0</td>\n",
       "      <td>0</td>\n",
       "      <td>0</td>\n",
       "      <td>E</td>\n",
       "    </tr>\n",
       "    <tr>\n",
       "      <th>1</th>\n",
       "      <td>475</td>\n",
       "      <td>0</td>\n",
       "      <td>0</td>\n",
       "      <td>0</td>\n",
       "      <td>0</td>\n",
       "      <td>0</td>\n",
       "      <td>0</td>\n",
       "      <td>0</td>\n",
       "      <td>0</td>\n",
       "      <td>1</td>\n",
       "      <td>...</td>\n",
       "      <td>0</td>\n",
       "      <td>0</td>\n",
       "      <td>0</td>\n",
       "      <td>0</td>\n",
       "      <td>0</td>\n",
       "      <td>0</td>\n",
       "      <td>0</td>\n",
       "      <td>0</td>\n",
       "      <td>0</td>\n",
       "      <td>ET</td>\n",
       "    </tr>\n",
       "    <tr>\n",
       "      <th>2</th>\n",
       "      <td>476</td>\n",
       "      <td>0</td>\n",
       "      <td>0</td>\n",
       "      <td>0</td>\n",
       "      <td>0</td>\n",
       "      <td>0</td>\n",
       "      <td>0</td>\n",
       "      <td>0</td>\n",
       "      <td>0</td>\n",
       "      <td>1</td>\n",
       "      <td>...</td>\n",
       "      <td>0</td>\n",
       "      <td>0</td>\n",
       "      <td>0</td>\n",
       "      <td>0</td>\n",
       "      <td>0</td>\n",
       "      <td>0</td>\n",
       "      <td>0</td>\n",
       "      <td>0</td>\n",
       "      <td>0</td>\n",
       "      <td>ET</td>\n",
       "    </tr>\n",
       "    <tr>\n",
       "      <th>3</th>\n",
       "      <td>477</td>\n",
       "      <td>1</td>\n",
       "      <td>0</td>\n",
       "      <td>0</td>\n",
       "      <td>0</td>\n",
       "      <td>0</td>\n",
       "      <td>0</td>\n",
       "      <td>0</td>\n",
       "      <td>0</td>\n",
       "      <td>1</td>\n",
       "      <td>...</td>\n",
       "      <td>0</td>\n",
       "      <td>0</td>\n",
       "      <td>0</td>\n",
       "      <td>0</td>\n",
       "      <td>0</td>\n",
       "      <td>0</td>\n",
       "      <td>0</td>\n",
       "      <td>0</td>\n",
       "      <td>0</td>\n",
       "      <td>ET</td>\n",
       "    </tr>\n",
       "    <tr>\n",
       "      <th>4</th>\n",
       "      <td>478</td>\n",
       "      <td>0</td>\n",
       "      <td>0</td>\n",
       "      <td>0</td>\n",
       "      <td>0</td>\n",
       "      <td>0</td>\n",
       "      <td>0</td>\n",
       "      <td>0</td>\n",
       "      <td>0</td>\n",
       "      <td>1</td>\n",
       "      <td>...</td>\n",
       "      <td>0</td>\n",
       "      <td>0</td>\n",
       "      <td>0</td>\n",
       "      <td>0</td>\n",
       "      <td>0</td>\n",
       "      <td>0</td>\n",
       "      <td>0</td>\n",
       "      <td>0</td>\n",
       "      <td>0</td>\n",
       "      <td>ET</td>\n",
       "    </tr>\n",
       "  </tbody>\n",
       "</table>\n",
       "<p>5 rows × 34 columns</p>\n",
       "</div>"
      ],
      "text/plain": [
       "    id  console  alcohol_reference  animated_blood  blood  blood_and_gore  \\\n",
       "0  474        1                  0               0      0               0   \n",
       "1  475        0                  0               0      0               0   \n",
       "2  476        0                  0               0      0               0   \n",
       "3  477        1                  0               0      0               0   \n",
       "4  478        0                  0               0      0               0   \n",
       "\n",
       "   cartoon_violence  crude_humor  drug_reference  fantasy_violence  ...  \\\n",
       "0                 0            0               0                 0  ...   \n",
       "1                 0            0               0                 1  ...   \n",
       "2                 0            0               0                 1  ...   \n",
       "3                 0            0               0                 1  ...   \n",
       "4                 0            0               0                 1  ...   \n",
       "\n",
       "   sexual_content  sexual_themes  simulated_gambling  strong_janguage  \\\n",
       "0               0              0                   0                0   \n",
       "1               0              0                   0                0   \n",
       "2               0              0                   0                0   \n",
       "3               0              0                   0                0   \n",
       "4               0              0                   0                0   \n",
       "\n",
       "   strong_sexual_content  suggestive_themes  use_of_alcohol  \\\n",
       "0                      0                  0               0   \n",
       "1                      0                  0               0   \n",
       "2                      0                  0               0   \n",
       "3                      0                  0               0   \n",
       "4                      0                  0               0   \n",
       "\n",
       "   use_of_drugs_and_alcohol  violence  esrb_rating  \n",
       "0                         0         0            E  \n",
       "1                         0         0           ET  \n",
       "2                         0         0           ET  \n",
       "3                         0         0           ET  \n",
       "4                         0         0           ET  \n",
       "\n",
       "[5 rows x 34 columns]"
      ]
     },
     "execution_count": 5,
     "metadata": {},
     "output_type": "execute_result"
    }
   ],
   "source": [
    "train.head()"
   ]
  },
  {
   "cell_type": "markdown",
   "id": "a6093a73",
   "metadata": {
    "papermill": {
     "duration": 0.023097,
     "end_time": "2021-10-25T22:08:05.185362",
     "exception": false,
     "start_time": "2021-10-25T22:08:05.162265",
     "status": "completed"
    },
    "tags": []
   },
   "source": [
    "# [2 point] You must check for outliers within the training data and, if required, describe and implement an approach to handle those outliers."
   ]
  },
  {
   "cell_type": "code",
   "execution_count": 6,
   "id": "63542fe7",
   "metadata": {
    "execution": {
     "iopub.execute_input": "2021-10-25T22:08:05.236659Z",
     "iopub.status.busy": "2021-10-25T22:08:05.235837Z",
     "iopub.status.idle": "2021-10-25T22:08:05.333854Z",
     "shell.execute_reply": "2021-10-25T22:08:05.334367Z",
     "shell.execute_reply.started": "2021-10-25T22:04:26.586019Z"
    },
    "papermill": {
     "duration": 0.125798,
     "end_time": "2021-10-25T22:08:05.334568",
     "exception": false,
     "start_time": "2021-10-25T22:08:05.208770",
     "status": "completed"
    },
    "tags": []
   },
   "outputs": [
    {
     "data": {
      "text/html": [
       "<div>\n",
       "<style scoped>\n",
       "    .dataframe tbody tr th:only-of-type {\n",
       "        vertical-align: middle;\n",
       "    }\n",
       "\n",
       "    .dataframe tbody tr th {\n",
       "        vertical-align: top;\n",
       "    }\n",
       "\n",
       "    .dataframe thead th {\n",
       "        text-align: right;\n",
       "    }\n",
       "</style>\n",
       "<table border=\"1\" class=\"dataframe\">\n",
       "  <thead>\n",
       "    <tr style=\"text-align: right;\">\n",
       "      <th></th>\n",
       "      <th>id</th>\n",
       "      <th>console</th>\n",
       "      <th>alcohol_reference</th>\n",
       "      <th>animated_blood</th>\n",
       "      <th>blood</th>\n",
       "      <th>blood_and_gore</th>\n",
       "      <th>cartoon_violence</th>\n",
       "      <th>crude_humor</th>\n",
       "      <th>drug_reference</th>\n",
       "      <th>fantasy_violence</th>\n",
       "      <th>...</th>\n",
       "      <th>partial_nudity</th>\n",
       "      <th>sexual_content</th>\n",
       "      <th>sexual_themes</th>\n",
       "      <th>simulated_gambling</th>\n",
       "      <th>strong_janguage</th>\n",
       "      <th>strong_sexual_content</th>\n",
       "      <th>suggestive_themes</th>\n",
       "      <th>use_of_alcohol</th>\n",
       "      <th>use_of_drugs_and_alcohol</th>\n",
       "      <th>violence</th>\n",
       "    </tr>\n",
       "  </thead>\n",
       "  <tbody>\n",
       "    <tr>\n",
       "      <th>count</th>\n",
       "      <td>1421.000000</td>\n",
       "      <td>1421.000000</td>\n",
       "      <td>1421.000000</td>\n",
       "      <td>1421.000000</td>\n",
       "      <td>1421.000000</td>\n",
       "      <td>1421.000000</td>\n",
       "      <td>1421.000000</td>\n",
       "      <td>1421.000000</td>\n",
       "      <td>1421.000000</td>\n",
       "      <td>1421.000000</td>\n",
       "      <td>...</td>\n",
       "      <td>1421.000000</td>\n",
       "      <td>1421.000000</td>\n",
       "      <td>1421.000000</td>\n",
       "      <td>1421.000000</td>\n",
       "      <td>1421.000000</td>\n",
       "      <td>1421.00000</td>\n",
       "      <td>1421.000000</td>\n",
       "      <td>1421.000000</td>\n",
       "      <td>1421.000000</td>\n",
       "      <td>1421.000000</td>\n",
       "    </tr>\n",
       "    <tr>\n",
       "      <th>mean</th>\n",
       "      <td>1184.000000</td>\n",
       "      <td>0.472203</td>\n",
       "      <td>0.048557</td>\n",
       "      <td>0.009852</td>\n",
       "      <td>0.219564</td>\n",
       "      <td>0.132301</td>\n",
       "      <td>0.019001</td>\n",
       "      <td>0.056298</td>\n",
       "      <td>0.034483</td>\n",
       "      <td>0.235749</td>\n",
       "      <td>...</td>\n",
       "      <td>0.014075</td>\n",
       "      <td>0.028149</td>\n",
       "      <td>0.055595</td>\n",
       "      <td>0.065447</td>\n",
       "      <td>0.116819</td>\n",
       "      <td>0.04152</td>\n",
       "      <td>0.111189</td>\n",
       "      <td>0.016890</td>\n",
       "      <td>0.016186</td>\n",
       "      <td>0.061928</td>\n",
       "    </tr>\n",
       "    <tr>\n",
       "      <th>std</th>\n",
       "      <td>410.351678</td>\n",
       "      <td>0.499402</td>\n",
       "      <td>0.215016</td>\n",
       "      <td>0.098803</td>\n",
       "      <td>0.414097</td>\n",
       "      <td>0.338937</td>\n",
       "      <td>0.136575</td>\n",
       "      <td>0.230578</td>\n",
       "      <td>0.182530</td>\n",
       "      <td>0.424616</td>\n",
       "      <td>...</td>\n",
       "      <td>0.117840</td>\n",
       "      <td>0.165457</td>\n",
       "      <td>0.229218</td>\n",
       "      <td>0.247400</td>\n",
       "      <td>0.321318</td>\n",
       "      <td>0.19956</td>\n",
       "      <td>0.314477</td>\n",
       "      <td>0.128903</td>\n",
       "      <td>0.126234</td>\n",
       "      <td>0.241110</td>\n",
       "    </tr>\n",
       "    <tr>\n",
       "      <th>min</th>\n",
       "      <td>474.000000</td>\n",
       "      <td>0.000000</td>\n",
       "      <td>0.000000</td>\n",
       "      <td>0.000000</td>\n",
       "      <td>0.000000</td>\n",
       "      <td>0.000000</td>\n",
       "      <td>0.000000</td>\n",
       "      <td>0.000000</td>\n",
       "      <td>0.000000</td>\n",
       "      <td>0.000000</td>\n",
       "      <td>...</td>\n",
       "      <td>0.000000</td>\n",
       "      <td>0.000000</td>\n",
       "      <td>0.000000</td>\n",
       "      <td>0.000000</td>\n",
       "      <td>0.000000</td>\n",
       "      <td>0.00000</td>\n",
       "      <td>0.000000</td>\n",
       "      <td>0.000000</td>\n",
       "      <td>0.000000</td>\n",
       "      <td>0.000000</td>\n",
       "    </tr>\n",
       "    <tr>\n",
       "      <th>25%</th>\n",
       "      <td>829.000000</td>\n",
       "      <td>0.000000</td>\n",
       "      <td>0.000000</td>\n",
       "      <td>0.000000</td>\n",
       "      <td>0.000000</td>\n",
       "      <td>0.000000</td>\n",
       "      <td>0.000000</td>\n",
       "      <td>0.000000</td>\n",
       "      <td>0.000000</td>\n",
       "      <td>0.000000</td>\n",
       "      <td>...</td>\n",
       "      <td>0.000000</td>\n",
       "      <td>0.000000</td>\n",
       "      <td>0.000000</td>\n",
       "      <td>0.000000</td>\n",
       "      <td>0.000000</td>\n",
       "      <td>0.00000</td>\n",
       "      <td>0.000000</td>\n",
       "      <td>0.000000</td>\n",
       "      <td>0.000000</td>\n",
       "      <td>0.000000</td>\n",
       "    </tr>\n",
       "    <tr>\n",
       "      <th>50%</th>\n",
       "      <td>1184.000000</td>\n",
       "      <td>0.000000</td>\n",
       "      <td>0.000000</td>\n",
       "      <td>0.000000</td>\n",
       "      <td>0.000000</td>\n",
       "      <td>0.000000</td>\n",
       "      <td>0.000000</td>\n",
       "      <td>0.000000</td>\n",
       "      <td>0.000000</td>\n",
       "      <td>0.000000</td>\n",
       "      <td>...</td>\n",
       "      <td>0.000000</td>\n",
       "      <td>0.000000</td>\n",
       "      <td>0.000000</td>\n",
       "      <td>0.000000</td>\n",
       "      <td>0.000000</td>\n",
       "      <td>0.00000</td>\n",
       "      <td>0.000000</td>\n",
       "      <td>0.000000</td>\n",
       "      <td>0.000000</td>\n",
       "      <td>0.000000</td>\n",
       "    </tr>\n",
       "    <tr>\n",
       "      <th>75%</th>\n",
       "      <td>1539.000000</td>\n",
       "      <td>1.000000</td>\n",
       "      <td>0.000000</td>\n",
       "      <td>0.000000</td>\n",
       "      <td>0.000000</td>\n",
       "      <td>0.000000</td>\n",
       "      <td>0.000000</td>\n",
       "      <td>0.000000</td>\n",
       "      <td>0.000000</td>\n",
       "      <td>0.000000</td>\n",
       "      <td>...</td>\n",
       "      <td>0.000000</td>\n",
       "      <td>0.000000</td>\n",
       "      <td>0.000000</td>\n",
       "      <td>0.000000</td>\n",
       "      <td>0.000000</td>\n",
       "      <td>0.00000</td>\n",
       "      <td>0.000000</td>\n",
       "      <td>0.000000</td>\n",
       "      <td>0.000000</td>\n",
       "      <td>0.000000</td>\n",
       "    </tr>\n",
       "    <tr>\n",
       "      <th>max</th>\n",
       "      <td>1894.000000</td>\n",
       "      <td>1.000000</td>\n",
       "      <td>1.000000</td>\n",
       "      <td>1.000000</td>\n",
       "      <td>1.000000</td>\n",
       "      <td>1.000000</td>\n",
       "      <td>1.000000</td>\n",
       "      <td>1.000000</td>\n",
       "      <td>1.000000</td>\n",
       "      <td>1.000000</td>\n",
       "      <td>...</td>\n",
       "      <td>1.000000</td>\n",
       "      <td>1.000000</td>\n",
       "      <td>1.000000</td>\n",
       "      <td>1.000000</td>\n",
       "      <td>1.000000</td>\n",
       "      <td>1.00000</td>\n",
       "      <td>1.000000</td>\n",
       "      <td>1.000000</td>\n",
       "      <td>1.000000</td>\n",
       "      <td>1.000000</td>\n",
       "    </tr>\n",
       "  </tbody>\n",
       "</table>\n",
       "<p>8 rows × 33 columns</p>\n",
       "</div>"
      ],
      "text/plain": [
       "                id      console  alcohol_reference  animated_blood  \\\n",
       "count  1421.000000  1421.000000        1421.000000     1421.000000   \n",
       "mean   1184.000000     0.472203           0.048557        0.009852   \n",
       "std     410.351678     0.499402           0.215016        0.098803   \n",
       "min     474.000000     0.000000           0.000000        0.000000   \n",
       "25%     829.000000     0.000000           0.000000        0.000000   \n",
       "50%    1184.000000     0.000000           0.000000        0.000000   \n",
       "75%    1539.000000     1.000000           0.000000        0.000000   \n",
       "max    1894.000000     1.000000           1.000000        1.000000   \n",
       "\n",
       "             blood  blood_and_gore  cartoon_violence  crude_humor  \\\n",
       "count  1421.000000     1421.000000       1421.000000  1421.000000   \n",
       "mean      0.219564        0.132301          0.019001     0.056298   \n",
       "std       0.414097        0.338937          0.136575     0.230578   \n",
       "min       0.000000        0.000000          0.000000     0.000000   \n",
       "25%       0.000000        0.000000          0.000000     0.000000   \n",
       "50%       0.000000        0.000000          0.000000     0.000000   \n",
       "75%       0.000000        0.000000          0.000000     0.000000   \n",
       "max       1.000000        1.000000          1.000000     1.000000   \n",
       "\n",
       "       drug_reference  fantasy_violence  ...  partial_nudity  sexual_content  \\\n",
       "count     1421.000000       1421.000000  ...     1421.000000     1421.000000   \n",
       "mean         0.034483          0.235749  ...        0.014075        0.028149   \n",
       "std          0.182530          0.424616  ...        0.117840        0.165457   \n",
       "min          0.000000          0.000000  ...        0.000000        0.000000   \n",
       "25%          0.000000          0.000000  ...        0.000000        0.000000   \n",
       "50%          0.000000          0.000000  ...        0.000000        0.000000   \n",
       "75%          0.000000          0.000000  ...        0.000000        0.000000   \n",
       "max          1.000000          1.000000  ...        1.000000        1.000000   \n",
       "\n",
       "       sexual_themes  simulated_gambling  strong_janguage  \\\n",
       "count    1421.000000         1421.000000      1421.000000   \n",
       "mean        0.055595            0.065447         0.116819   \n",
       "std         0.229218            0.247400         0.321318   \n",
       "min         0.000000            0.000000         0.000000   \n",
       "25%         0.000000            0.000000         0.000000   \n",
       "50%         0.000000            0.000000         0.000000   \n",
       "75%         0.000000            0.000000         0.000000   \n",
       "max         1.000000            1.000000         1.000000   \n",
       "\n",
       "       strong_sexual_content  suggestive_themes  use_of_alcohol  \\\n",
       "count             1421.00000        1421.000000     1421.000000   \n",
       "mean                 0.04152           0.111189        0.016890   \n",
       "std                  0.19956           0.314477        0.128903   \n",
       "min                  0.00000           0.000000        0.000000   \n",
       "25%                  0.00000           0.000000        0.000000   \n",
       "50%                  0.00000           0.000000        0.000000   \n",
       "75%                  0.00000           0.000000        0.000000   \n",
       "max                  1.00000           1.000000        1.000000   \n",
       "\n",
       "       use_of_drugs_and_alcohol     violence  \n",
       "count               1421.000000  1421.000000  \n",
       "mean                   0.016186     0.061928  \n",
       "std                    0.126234     0.241110  \n",
       "min                    0.000000     0.000000  \n",
       "25%                    0.000000     0.000000  \n",
       "50%                    0.000000     0.000000  \n",
       "75%                    0.000000     0.000000  \n",
       "max                    1.000000     1.000000  \n",
       "\n",
       "[8 rows x 33 columns]"
      ]
     },
     "execution_count": 6,
     "metadata": {},
     "output_type": "execute_result"
    }
   ],
   "source": [
    "train.describe()"
   ]
  },
  {
   "cell_type": "markdown",
   "id": "50b352e7",
   "metadata": {
    "papermill": {
     "duration": 0.023971,
     "end_time": "2021-10-25T22:08:05.383712",
     "exception": false,
     "start_time": "2021-10-25T22:08:05.359741",
     "status": "completed"
    },
    "tags": []
   },
   "source": [
    "Because this contains binary information, there aren't outliers in the data.\n",
    "\n",
    "-If I wanted a better score I could identify which groups don't have much information and treat those as outliers."
   ]
  },
  {
   "cell_type": "markdown",
   "id": "bd828b41",
   "metadata": {
    "papermill": {
     "duration": 0.023835,
     "end_time": "2021-10-25T22:08:05.431887",
     "exception": false,
     "start_time": "2021-10-25T22:08:05.408052",
     "status": "completed"
    },
    "tags": []
   },
   "source": [
    "# [2 point] You must describe any data transformations or feature engineering that are required and provide an explanation as to \"why\" each is being done."
   ]
  },
  {
   "cell_type": "markdown",
   "id": "e252d94a",
   "metadata": {
    "papermill": {
     "duration": 0.023859,
     "end_time": "2021-10-25T22:08:05.480072",
     "exception": false,
     "start_time": "2021-10-25T22:08:05.456213",
     "status": "completed"
    },
    "tags": []
   },
   "source": [
    "The ESRB ratings are currently strings, let's set them to integers based on this chart.\n",
    "\n",
    "0-E\n",
    "\n",
    "1-ET\n",
    "\n",
    "2-LL\n",
    "\n",
    "3-M\n",
    "\n",
    "4-T\n"
   ]
  },
  {
   "cell_type": "code",
   "execution_count": 7,
   "id": "dba223e0",
   "metadata": {
    "execution": {
     "iopub.execute_input": "2021-10-25T22:08:05.540864Z",
     "iopub.status.busy": "2021-10-25T22:08:05.540030Z",
     "iopub.status.idle": "2021-10-25T22:08:05.544490Z",
     "shell.execute_reply": "2021-10-25T22:08:05.543901Z",
     "shell.execute_reply.started": "2021-10-25T22:04:26.682808Z"
    },
    "papermill": {
     "duration": 0.040307,
     "end_time": "2021-10-25T22:08:05.544646",
     "exception": false,
     "start_time": "2021-10-25T22:08:05.504339",
     "status": "completed"
    },
    "tags": []
   },
   "outputs": [
    {
     "data": {
      "text/plain": [
       "0    0\n",
       "1    1\n",
       "2    1\n",
       "3    1\n",
       "4    1\n",
       "Name: esrb_rating, dtype: int64"
      ]
     },
     "execution_count": 7,
     "metadata": {},
     "output_type": "execute_result"
    }
   ],
   "source": [
    "def ESRBTOINT(x):\n",
    "    if x == 'E': return 0\n",
    "    elif x == 'ET': return 1\n",
    "    elif x == 'LL': return 2\n",
    "    elif x == 'M': return 3\n",
    "    elif x == 'T': return 4\n",
    "    else: return -1\n",
    "    \n",
    "train['esrb_rating'] = train['esrb_rating'].apply(ESRBTOINT)\n",
    "train['esrb_rating'].head()"
   ]
  },
  {
   "cell_type": "markdown",
   "id": "7ca1822e",
   "metadata": {
    "papermill": {
     "duration": 0.025383,
     "end_time": "2021-10-25T22:08:05.595715",
     "exception": false,
     "start_time": "2021-10-25T22:08:05.570332",
     "status": "completed"
    },
    "tags": []
   },
   "source": [
    "# [2 point] You must check for missing values within the training data and, if required, describe and implement an approach to handle those missing values."
   ]
  },
  {
   "cell_type": "code",
   "execution_count": 8,
   "id": "c341a2e7",
   "metadata": {
    "execution": {
     "iopub.execute_input": "2021-10-25T22:08:05.651688Z",
     "iopub.status.busy": "2021-10-25T22:08:05.650952Z",
     "iopub.status.idle": "2021-10-25T22:08:05.657253Z",
     "shell.execute_reply": "2021-10-25T22:08:05.657803Z",
     "shell.execute_reply.started": "2021-10-25T22:04:26.697448Z"
    },
    "papermill": {
     "duration": 0.037328,
     "end_time": "2021-10-25T22:08:05.658010",
     "exception": false,
     "start_time": "2021-10-25T22:08:05.620682",
     "status": "completed"
    },
    "tags": []
   },
   "outputs": [
    {
     "data": {
      "text/plain": [
       "id                          0\n",
       "use_of_drugs_and_alcohol    0\n",
       "use_of_alcohol              0\n",
       "suggestive_themes           0\n",
       "strong_sexual_content       0\n",
       "strong_janguage             0\n",
       "simulated_gambling          0\n",
       "sexual_themes               0\n",
       "sexual_content              0\n",
       "partial_nudity              0\n",
       "nudity                      0\n",
       "no_descriptors              0\n",
       "mild_violence               0\n",
       "mild_suggestive_themes      0\n",
       "mild_lyrics                 0\n",
       "mild_language               0\n",
       "mild_fantasy_violence       0\n",
       "mild_cartoon_violence       0\n",
       "console                     0\n",
       "alcohol_reference           0\n",
       "animated_blood              0\n",
       "blood                       0\n",
       "blood_and_gore              0\n",
       "cartoon_violence            0\n",
       "violence                    0\n",
       "crude_humor                 0\n",
       "fantasy_violence            0\n",
       "intense_violence            0\n",
       "language                    0\n",
       "lyrics                      0\n",
       "mature_humor                0\n",
       "mild_blood                  0\n",
       "drug_reference              0\n",
       "esrb_rating                 0\n",
       "dtype: int64"
      ]
     },
     "execution_count": 8,
     "metadata": {},
     "output_type": "execute_result"
    }
   ],
   "source": [
    "train.isnull().sum().sort_values()"
   ]
  },
  {
   "cell_type": "markdown",
   "id": "4391fa60",
   "metadata": {
    "papermill": {
     "duration": 0.025803,
     "end_time": "2021-10-25T22:08:05.710276",
     "exception": false,
     "start_time": "2021-10-25T22:08:05.684473",
     "status": "completed"
    },
    "tags": []
   },
   "source": [
    "There is no missing data therefore we don't need to do anything. "
   ]
  },
  {
   "cell_type": "code",
   "execution_count": 9,
   "id": "759c4af7",
   "metadata": {
    "execution": {
     "iopub.execute_input": "2021-10-25T22:08:05.765662Z",
     "iopub.status.busy": "2021-10-25T22:08:05.764711Z",
     "iopub.status.idle": "2021-10-25T22:08:06.112636Z",
     "shell.execute_reply": "2021-10-25T22:08:06.111953Z",
     "shell.execute_reply.started": "2021-10-25T22:04:26.714345Z"
    },
    "papermill": {
     "duration": 0.376581,
     "end_time": "2021-10-25T22:08:06.112811",
     "exception": false,
     "start_time": "2021-10-25T22:08:05.736230",
     "status": "completed"
    },
    "tags": []
   },
   "outputs": [],
   "source": [
    "from sklearn.model_selection import train_test_split\n",
    "from sklearn.metrics import mean_squared_error\n",
    "from sklearn.model_selection import cross_val_score"
   ]
  },
  {
   "cell_type": "code",
   "execution_count": 10,
   "id": "84f8b055",
   "metadata": {
    "execution": {
     "iopub.execute_input": "2021-10-25T22:08:06.173025Z",
     "iopub.status.busy": "2021-10-25T22:08:06.172279Z",
     "iopub.status.idle": "2021-10-25T22:08:06.180606Z",
     "shell.execute_reply": "2021-10-25T22:08:06.179989Z",
     "shell.execute_reply.started": "2021-10-25T22:04:26.721426Z"
    },
    "papermill": {
     "duration": 0.042027,
     "end_time": "2021-10-25T22:08:06.180774",
     "exception": false,
     "start_time": "2021-10-25T22:08:06.138747",
     "status": "completed"
    },
    "tags": []
   },
   "outputs": [],
   "source": [
    "predictors = train.drop(['esrb_rating'], axis = 1)\n",
    "target = train[\"esrb_rating\"]\n",
    "X, X_val, y, y_val = train_test_split(predictors, target, test_size = 0.45, shuffle = True)\n",
    "\n",
    "x_test = test.copy()\n"
   ]
  },
  {
   "cell_type": "markdown",
   "id": "7004a3e1",
   "metadata": {
    "papermill": {
     "duration": 0.024724,
     "end_time": "2021-10-25T22:08:06.231729",
     "exception": false,
     "start_time": "2021-10-25T22:08:06.207005",
     "status": "completed"
    },
    "tags": []
   },
   "source": [
    "# [2 point] You must build and train a Logistic Regression model on the training data and evaluate its performance on a set of validation data\n",
    "You must generate a distribution of validation scores, as well as summary statistics for this distribution (using the pandas describe() method)"
   ]
  },
  {
   "cell_type": "code",
   "execution_count": 11,
   "id": "6a9a4b7c",
   "metadata": {
    "execution": {
     "iopub.execute_input": "2021-10-25T22:08:06.288251Z",
     "iopub.status.busy": "2021-10-25T22:08:06.287445Z",
     "iopub.status.idle": "2021-10-25T22:08:06.393595Z",
     "shell.execute_reply": "2021-10-25T22:08:06.394503Z",
     "shell.execute_reply.started": "2021-10-25T22:04:26.740002Z"
    },
    "papermill": {
     "duration": 0.138074,
     "end_time": "2021-10-25T22:08:06.394841",
     "exception": false,
     "start_time": "2021-10-25T22:08:06.256767",
     "status": "completed"
    },
    "tags": []
   },
   "outputs": [
    {
     "name": "stdout",
     "output_type": "stream",
     "text": [
      "Ordinary Least Squares: 66.5451064958982 %\n"
     ]
    }
   ],
   "source": [
    "from sklearn.linear_model import LinearRegression\n",
    "\n",
    "model1 = LinearRegression()\n",
    "model1.fit(X,y)\n",
    "model1Score = (model1.score(X, y) * 100)\n",
    "print('Ordinary Least Squares:',model1Score,'%')"
   ]
  },
  {
   "cell_type": "markdown",
   "id": "f0ce5bb2",
   "metadata": {
    "papermill": {
     "duration": 0.044951,
     "end_time": "2021-10-25T22:08:06.485736",
     "exception": false,
     "start_time": "2021-10-25T22:08:06.440785",
     "status": "completed"
    },
    "tags": []
   },
   "source": [
    "# [2 point] You must build and train an Support Vector Machine on the training data and evaluate its performance on a set of validation data\n",
    "You must generate a distribution of validation scores, as well as summary statistics for this distribution (using the pandas describe() method)"
   ]
  },
  {
   "cell_type": "code",
   "execution_count": 12,
   "id": "c9b728f7",
   "metadata": {
    "execution": {
     "iopub.execute_input": "2021-10-25T22:08:06.554643Z",
     "iopub.status.busy": "2021-10-25T22:08:06.553862Z",
     "iopub.status.idle": "2021-10-25T22:08:06.659635Z",
     "shell.execute_reply": "2021-10-25T22:08:06.660114Z",
     "shell.execute_reply.started": "2021-10-25T22:04:26.763401Z"
    },
    "papermill": {
     "duration": 0.139444,
     "end_time": "2021-10-25T22:08:06.660339",
     "exception": false,
     "start_time": "2021-10-25T22:08:06.520895",
     "status": "completed"
    },
    "tags": []
   },
   "outputs": [
    {
     "name": "stdout",
     "output_type": "stream",
     "text": [
      "Ordinary Least Squares: -13.632768649965143 %\n"
     ]
    }
   ],
   "source": [
    "from sklearn.svm import SVR\n",
    "\n",
    "model2 = SVR()\n",
    "model2.fit(X,y)\n",
    "model2Score = (model2.score(X, y) * 100)\n",
    "print('Ordinary Least Squares:',model2Score,'%')"
   ]
  },
  {
   "cell_type": "markdown",
   "id": "4b227859",
   "metadata": {
    "papermill": {
     "duration": 0.025491,
     "end_time": "2021-10-25T22:08:06.711513",
     "exception": false,
     "start_time": "2021-10-25T22:08:06.686022",
     "status": "completed"
    },
    "tags": []
   },
   "source": [
    "# [2 point] You must build and train a Decision Tree model on the training data and evaluate its performance on a set of validation data\n",
    "You must generate a distribution of validation scores, as well as summary statistics for this distribution (using the pandas describe() method)"
   ]
  },
  {
   "cell_type": "code",
   "execution_count": 13,
   "id": "afb21e8d",
   "metadata": {
    "execution": {
     "iopub.execute_input": "2021-10-25T22:08:06.768324Z",
     "iopub.status.busy": "2021-10-25T22:08:06.767572Z",
     "iopub.status.idle": "2021-10-25T22:08:06.883637Z",
     "shell.execute_reply": "2021-10-25T22:08:06.884230Z",
     "shell.execute_reply.started": "2021-10-25T22:04:26.923374Z"
    },
    "papermill": {
     "duration": 0.146885,
     "end_time": "2021-10-25T22:08:06.884442",
     "exception": false,
     "start_time": "2021-10-25T22:08:06.737557",
     "status": "completed"
    },
    "tags": []
   },
   "outputs": [
    {
     "name": "stdout",
     "output_type": "stream",
     "text": [
      "Ordinary Least Squares: 100.0 %\n"
     ]
    }
   ],
   "source": [
    "from sklearn.tree import DecisionTreeClassifier\n",
    "model3 = DecisionTreeClassifier()\n",
    "model3.fit(X, y)\n",
    "model3Score = (model3.score(X, y) * 100)\n",
    "print('Ordinary Least Squares:',model3Score,'%')"
   ]
  },
  {
   "cell_type": "markdown",
   "id": "5db6476d",
   "metadata": {
    "papermill": {
     "duration": 0.027068,
     "end_time": "2021-10-25T22:08:06.938068",
     "exception": false,
     "start_time": "2021-10-25T22:08:06.911000",
     "status": "completed"
    },
    "tags": []
   },
   "source": [
    "# [2 point] You must build and train a Random Forest model on the training data and evaluate its performance on a set of validation data\n",
    "You must generate a distribution of validation scores, as well as summary statistics for this distribution (using the pandas describe() method)"
   ]
  },
  {
   "cell_type": "code",
   "execution_count": 14,
   "id": "9837c9d9",
   "metadata": {
    "execution": {
     "iopub.execute_input": "2021-10-25T22:08:06.998306Z",
     "iopub.status.busy": "2021-10-25T22:08:06.997234Z",
     "iopub.status.idle": "2021-10-25T22:08:07.301987Z",
     "shell.execute_reply": "2021-10-25T22:08:07.300970Z",
     "shell.execute_reply.started": "2021-10-25T22:04:26.942163Z"
    },
    "papermill": {
     "duration": 0.337711,
     "end_time": "2021-10-25T22:08:07.302214",
     "exception": false,
     "start_time": "2021-10-25T22:08:06.964503",
     "status": "completed"
    },
    "tags": []
   },
   "outputs": [
    {
     "name": "stdout",
     "output_type": "stream",
     "text": [
      "Ordinary Least Squares: 100.0 %\n"
     ]
    }
   ],
   "source": [
    "from sklearn.ensemble import RandomForestClassifier\n",
    "\n",
    "model4 = RandomForestClassifier( max_features = \"auto\", min_samples_leaf = 1)\n",
    "model4.fit(X, y)\n",
    "model4Score = (model4.score(X, y) * 100)\n",
    "print('Ordinary Least Squares:',model4Score,'%')"
   ]
  },
  {
   "cell_type": "markdown",
   "id": "45509be9",
   "metadata": {
    "papermill": {
     "duration": 0.026308,
     "end_time": "2021-10-25T22:08:07.355773",
     "exception": false,
     "start_time": "2021-10-25T22:08:07.329465",
     "status": "completed"
    },
    "tags": []
   },
   "source": [
    "# [2 point] You must build and train a K Nearest Neighbors model on the training data and evaluate its performance on a set of validation data\n",
    "You must generate a distribution of validation scores, as well as summary statistics for this distribution (using the pandas describe() method)"
   ]
  },
  {
   "cell_type": "code",
   "execution_count": 15,
   "id": "afa63bd0",
   "metadata": {
    "execution": {
     "iopub.execute_input": "2021-10-25T22:08:07.418608Z",
     "iopub.status.busy": "2021-10-25T22:08:07.416922Z",
     "iopub.status.idle": "2021-10-25T22:08:07.462882Z",
     "shell.execute_reply": "2021-10-25T22:08:07.461867Z",
     "shell.execute_reply.started": "2021-10-25T22:04:27.223385Z"
    },
    "papermill": {
     "duration": 0.080617,
     "end_time": "2021-10-25T22:08:07.463104",
     "exception": false,
     "start_time": "2021-10-25T22:08:07.382487",
     "status": "completed"
    },
    "tags": []
   },
   "outputs": [
    {
     "name": "stdout",
     "output_type": "stream",
     "text": [
      "Ordinary Least Squares: 51.21638924455826 %\n"
     ]
    }
   ],
   "source": [
    "from sklearn.neighbors import KNeighborsClassifier\n",
    "\n",
    "model5 = KNeighborsClassifier()\n",
    "model5.fit(X, y)\n",
    "model5Score = (model5.score(X, y) * 100)\n",
    "print('Ordinary Least Squares:',model5Score,'%')"
   ]
  },
  {
   "cell_type": "markdown",
   "id": "f5dc8af1",
   "metadata": {
    "papermill": {
     "duration": 0.027321,
     "end_time": "2021-10-25T22:08:07.519008",
     "exception": false,
     "start_time": "2021-10-25T22:08:07.491687",
     "status": "completed"
    },
    "tags": []
   },
   "source": [
    "# [2 points] You must select the best model that you have generated and use that model to predict the target vector for the test data.\n",
    "You must save this this target vector to your submission.csv file and print the contents of your submission.csv file within the notebook"
   ]
  },
  {
   "cell_type": "code",
   "execution_count": 16,
   "id": "e272a99d",
   "metadata": {
    "execution": {
     "iopub.execute_input": "2021-10-25T22:08:07.582025Z",
     "iopub.status.busy": "2021-10-25T22:08:07.581274Z",
     "iopub.status.idle": "2021-10-25T22:08:07.853555Z",
     "shell.execute_reply": "2021-10-25T22:08:07.852971Z",
     "shell.execute_reply.started": "2021-10-25T22:06:46.357472Z"
    },
    "papermill": {
     "duration": 0.307026,
     "end_time": "2021-10-25T22:08:07.853716",
     "exception": false,
     "start_time": "2021-10-25T22:08:07.546690",
     "status": "completed"
    },
    "tags": []
   },
   "outputs": [
    {
     "name": "stderr",
     "output_type": "stream",
     "text": [
      "/opt/conda/lib/python3.7/site-packages/seaborn/_decorators.py:43: FutureWarning: Pass the following variables as keyword args: x, y. From version 0.12, the only valid positional argument will be `data`, and passing other arguments without an explicit keyword will result in an error or misinterpretation.\n",
      "  FutureWarning\n"
     ]
    },
    {
     "data": {
      "text/plain": [
       "<AxesSubplot:xlabel='Name', ylabel='Validation Score'>"
      ]
     },
     "execution_count": 16,
     "metadata": {},
     "output_type": "execute_result"
    },
    {
     "data": {
      "image/png": "[encoded data removed]",
      "text/plain": [
       "<Figure size 432x288 with 1 Axes>"
      ]
     },
     "metadata": {
      "needs_background": "light"
     },
     "output_type": "display_data"
    }
   ],
   "source": [
    "d = {'Name': ['Linear Regression', 'SVR', 'Decision Tree', 'Random Forest', 'KNeighbors'], 'Validation Score': [model1Score, model2Score, model3Score, model4Score, model5Score]}\n",
    "\n",
    "ValidationDF = pd.DataFrame(data = d)\n",
    "\n",
    "#ValidationDF.head()\n",
    "\n",
    "sb.barplot(ValidationDF['Name'], ValidationDF['Validation Score'] )"
   ]
  },
  {
   "cell_type": "markdown",
   "id": "a1f425eb",
   "metadata": {
    "papermill": {
     "duration": 0.027853,
     "end_time": "2021-10-25T22:08:07.909871",
     "exception": false,
     "start_time": "2021-10-25T22:08:07.882018",
     "status": "completed"
    },
    "tags": []
   },
   "source": [
    "Clearly, Decision tree and Random Forest are the best models. However after submitting Random Forest edges out Decision Tree so we are going to use Random Forest for our submission (model 4)"
   ]
  },
  {
   "cell_type": "code",
   "execution_count": 17,
   "id": "a1dd1738",
   "metadata": {
    "execution": {
     "iopub.execute_input": "2021-10-25T22:08:07.978416Z",
     "iopub.status.busy": "2021-10-25T22:08:07.977646Z",
     "iopub.status.idle": "2021-10-25T22:08:08.009801Z",
     "shell.execute_reply": "2021-10-25T22:08:08.010616Z",
     "shell.execute_reply.started": "2021-10-25T22:04:27.271067Z"
    },
    "papermill": {
     "duration": 0.072227,
     "end_time": "2021-10-25T22:08:08.010876",
     "exception": false,
     "start_time": "2021-10-25T22:08:07.938649",
     "status": "completed"
    },
    "tags": []
   },
   "outputs": [
    {
     "name": "stdout",
     "output_type": "stream",
     "text": [
      "Submission GOOD\n",
      "      id esrb_rating\n",
      "0      0           E\n",
      "1      1           T\n",
      "2      2           M\n",
      "3      3           E\n",
      "4      4           T\n",
      "..   ...         ...\n",
      "469  469           T\n",
      "470  470          ET\n",
      "471  471          ET\n",
      "472  472           T\n",
      "473  473           E\n",
      "\n",
      "[474 rows x 2 columns]\n"
     ]
    }
   ],
   "source": [
    "Y_pred = model4.predict(x_test)\n",
    "\n",
    "submit = pd.DataFrame({'id': test['id'], 'esrb_rating': Y_pred})\n",
    "\n",
    "\n",
    "def inToESRB(x):\n",
    "    if x == 0: return 'E'\n",
    "    elif x == 1: return 'ET'\n",
    "    elif x == 2: return 'LL'\n",
    "    elif x == 3: return 'M'\n",
    "    elif x == 4: return 'T'\n",
    "    else: return -1\n",
    "    \n",
    "submit['esrb_rating'] = submit['esrb_rating'].apply(inToESRB)\n",
    "\n",
    "\n",
    "submit.to_csv('submission.csv', index = False)\n",
    "print(\"Submission GOOD\")\n",
    "\n",
    "print(submit)\n"
   ]
  }
 ],
 "metadata": {
  "kernelspec": {
   "display_name": "Python 3",
   "language": "python",
   "name": "python3"
  },
  "language_info": {
   "codemirror_mode": {
    "name": "ipython",
    "version": 3
   },
   "file_extension": ".py",
   "mimetype": "text/x-python",
   "name": "python",
   "nbconvert_exporter": "python",
   "pygments_lexer": "ipython3",
   "version": "3.7.10"
  },
  "papermill": {
   "default_parameters": {},
   "duration": 16.113999,
   "end_time": "2021-10-25T22:08:09.055009",
   "environment_variables": {},
   "exception": null,
   "input_path": "__notebook__.ipynb",
   "output_path": "__notebook__.ipynb",
   "parameters": {},
   "start_time": "2021-10-25T22:07:52.941010",
   "version": "2.3.3"
  }
 },
 "nbformat": 4,
 "nbformat_minor": 5
}
